{
  "cells": [
    {
      "cell_type": "markdown",
      "id": "3ccc51e4-982c-464e-8796-9b2c59ba7990",
      "metadata": {
        "id": "3ccc51e4-982c-464e-8796-9b2c59ba7990"
      },
      "source": [
        "### Appendix. Multivariate normal density"
      ]
    },
    {
      "cell_type": "markdown",
      "id": "4c1bfc7b-c943-491a-9ddc-3ec310af6463",
      "metadata": {
        "id": "4c1bfc7b-c943-491a-9ddc-3ec310af6463"
      },
      "source": [
        "To evaluate the normal log-likelikelihood I am using a function that uses an eigendecomposition of the covariance matrix.\n",
        "This is a notebook to compare the loglikelihood against the logpdf function from scipy.stats.multivariate_normal"
      ]
    },
    {
      "cell_type": "code",
      "execution_count": 1,
      "id": "d9f0900c-89bc-4762-82dc-8263b64cfc55",
      "metadata": {
        "id": "d9f0900c-89bc-4762-82dc-8263b64cfc55"
      },
      "outputs": [],
      "source": [
        "import pandas as pd\n",
        "import numpy as np\n",
        "from scipy.stats import multivariate_normal\n",
        "import gdown\n",
        "import time"
      ]
    },
    {
      "cell_type": "code",
      "source": [
        "!pip install git+https://github.com/acycliq/pciSeq.git@dev_3d\n",
        "import pciSeq"
      ],
      "metadata": {
        "id": "iC3pJOZP88lC",
        "outputId": "d1bd5559-cda9-41c2-e2ff-d7559c7bebec",
        "colab": {
          "base_uri": "https://localhost:8080/"
        }
      },
      "id": "iC3pJOZP88lC",
      "execution_count": 2,
      "outputs": [
        {
          "output_type": "stream",
          "name": "stdout",
          "text": [
            "Collecting git+https://github.com/acycliq/pciSeq.git@dev_3d\n",
            "  Cloning https://github.com/acycliq/pciSeq.git (to revision dev_3d) to /tmp/pip-req-build-pbjyhugq\n",
            "  Running command git clone --filter=blob:none --quiet https://github.com/acycliq/pciSeq.git /tmp/pip-req-build-pbjyhugq\n",
            "  Running command git checkout -b dev_3d --track origin/dev_3d\n",
            "  Switched to a new branch 'dev_3d'\n",
            "  Branch 'dev_3d' set up to track remote branch 'dev_3d' from 'origin'.\n",
            "  Resolved https://github.com/acycliq/pciSeq.git to commit 31fd7688f1f848d9e59931636ce39479614ea23d\n",
            "  Preparing metadata (setup.py) ... \u001b[?25l\u001b[?25hdone\n",
            "Collecting numpy_groupies (from pciSeq==0.0.64.dev1)\n",
            "  Downloading numpy_groupies-0.11.2-py3-none-any.whl.metadata (18 kB)\n",
            "Requirement already satisfied: pandas in /usr/local/lib/python3.11/dist-packages (from pciSeq==0.0.64.dev1) (2.2.2)\n",
            "Requirement already satisfied: dask in /usr/local/lib/python3.11/dist-packages (from pciSeq==0.0.64.dev1) (2024.12.1)\n",
            "Requirement already satisfied: scipy in /usr/local/lib/python3.11/dist-packages (from pciSeq==0.0.64.dev1) (1.15.2)\n",
            "Collecting streamlit (from pciSeq==0.0.64.dev1)\n",
            "  Downloading streamlit-1.45.0-py3-none-any.whl.metadata (8.9 kB)\n",
            "Requirement already satisfied: altair in /usr/local/lib/python3.11/dist-packages (from pciSeq==0.0.64.dev1) (5.5.0)\n",
            "Requirement already satisfied: scikit-image in /usr/local/lib/python3.11/dist-packages (from pciSeq==0.0.64.dev1) (0.25.2)\n",
            "Requirement already satisfied: scikit-learn in /usr/local/lib/python3.11/dist-packages (from pciSeq==0.0.64.dev1) (1.6.1)\n",
            "Requirement already satisfied: tqdm in /usr/local/lib/python3.11/dist-packages (from pciSeq==0.0.64.dev1) (4.67.1)\n",
            "Requirement already satisfied: flask in /usr/local/lib/python3.11/dist-packages (from pciSeq==0.0.64.dev1) (3.1.0)\n",
            "Collecting fastremap (from pciSeq==0.0.64.dev1)\n",
            "  Downloading fastremap-1.16.0-cp311-cp311-manylinux_2_17_x86_64.manylinux2014_x86_64.whl.metadata (10 kB)\n",
            "Requirement already satisfied: numexpr in /usr/local/lib/python3.11/dist-packages (from pciSeq==0.0.64.dev1) (2.10.2)\n",
            "Collecting diplib (from pciSeq==0.0.64.dev1)\n",
            "  Downloading diplib-3.5.2-cp311-cp311-manylinux_2_17_x86_64.manylinux2014_x86_64.whl.metadata (6.0 kB)\n",
            "Collecting pyvips (from pciSeq==0.0.64.dev1)\n",
            "  Downloading pyvips-3.0.0.tar.gz (56 kB)\n",
            "\u001b[2K     \u001b[90m━━━━━━━━━━━━━━━━━━━━━━━━━━━━━━━━━━━━━━━━\u001b[0m \u001b[32m56.8/56.8 kB\u001b[0m \u001b[31m3.6 MB/s\u001b[0m eta \u001b[36m0:00:00\u001b[0m\n",
            "\u001b[?25h  Installing build dependencies ... \u001b[?25l\u001b[?25hdone\n",
            "  Getting requirements to build wheel ... \u001b[?25l\u001b[?25hdone\n",
            "  Preparing metadata (pyproject.toml) ... \u001b[?25l\u001b[?25hdone\n",
            "Requirement already satisfied: natsort in /usr/local/lib/python3.11/dist-packages (from pciSeq==0.0.64.dev1) (8.4.0)\n",
            "Collecting redis (from pciSeq==0.0.64.dev1)\n",
            "  Downloading redis-6.0.0-py3-none-any.whl.metadata (10 kB)\n",
            "Requirement already satisfied: matplotlib in /usr/local/lib/python3.11/dist-packages (from pciSeq==0.0.64.dev1) (3.10.0)\n",
            "Collecting laspy (from pciSeq==0.0.64.dev1)\n",
            "  Downloading laspy-2.5.4-py3-none-any.whl.metadata (3.5 kB)\n",
            "Collecting tomlkit (from pciSeq==0.0.64.dev1)\n",
            "  Downloading tomlkit-0.13.2-py3-none-any.whl.metadata (2.7 kB)\n",
            "Collecting colorlog (from pciSeq==0.0.64.dev1)\n",
            "  Downloading colorlog-6.9.0-py3-none-any.whl.metadata (10 kB)\n",
            "Requirement already satisfied: shapely in /usr/local/lib/python3.11/dist-packages (from pciSeq==0.0.64.dev1) (2.1.0)\n",
            "Collecting alphashape (from pciSeq==0.0.64.dev1)\n",
            "  Downloading alphashape-1.3.1-py2.py3-none-any.whl.metadata (18 kB)\n",
            "Requirement already satisfied: opt_einsum in /usr/local/lib/python3.11/dist-packages (from pciSeq==0.0.64.dev1) (3.4.0)\n",
            "Requirement already satisfied: plotly in /usr/local/lib/python3.11/dist-packages (from pciSeq==0.0.64.dev1) (5.24.1)\n",
            "Requirement already satisfied: numba in /usr/local/lib/python3.11/dist-packages (from pciSeq==0.0.64.dev1) (0.60.0)\n",
            "Requirement already satisfied: Click>=6.0 in /usr/local/lib/python3.11/dist-packages (from alphashape->pciSeq==0.0.64.dev1) (8.1.8)\n",
            "Collecting click-log>=0.3.2 (from alphashape->pciSeq==0.0.64.dev1)\n",
            "  Downloading click_log-0.4.0-py2.py3-none-any.whl.metadata (1.2 kB)\n",
            "Requirement already satisfied: numpy>=1.8.0 in /usr/local/lib/python3.11/dist-packages (from alphashape->pciSeq==0.0.64.dev1) (2.0.2)\n",
            "Collecting trimesh>=3.9.8 (from alphashape->pciSeq==0.0.64.dev1)\n",
            "  Downloading trimesh-4.6.8-py3-none-any.whl.metadata (18 kB)\n",
            "Requirement already satisfied: networkx>=2.5 in /usr/local/lib/python3.11/dist-packages (from alphashape->pciSeq==0.0.64.dev1) (3.4.2)\n",
            "Collecting rtree>=0.9.7 (from alphashape->pciSeq==0.0.64.dev1)\n",
            "  Downloading rtree-1.4.0-py3-none-manylinux2014_x86_64.manylinux_2_17_x86_64.whl.metadata (2.1 kB)\n",
            "Requirement already satisfied: jinja2 in /usr/local/lib/python3.11/dist-packages (from altair->pciSeq==0.0.64.dev1) (3.1.6)\n",
            "Requirement already satisfied: jsonschema>=3.0 in /usr/local/lib/python3.11/dist-packages (from altair->pciSeq==0.0.64.dev1) (4.23.0)\n",
            "Requirement already satisfied: narwhals>=1.14.2 in /usr/local/lib/python3.11/dist-packages (from altair->pciSeq==0.0.64.dev1) (1.37.1)\n",
            "Requirement already satisfied: packaging in /usr/local/lib/python3.11/dist-packages (from altair->pciSeq==0.0.64.dev1) (24.2)\n",
            "Requirement already satisfied: typing-extensions>=4.10.0 in /usr/local/lib/python3.11/dist-packages (from altair->pciSeq==0.0.64.dev1) (4.13.2)\n",
            "Requirement already satisfied: cloudpickle>=3.0.0 in /usr/local/lib/python3.11/dist-packages (from dask->pciSeq==0.0.64.dev1) (3.1.1)\n",
            "Requirement already satisfied: fsspec>=2021.09.0 in /usr/local/lib/python3.11/dist-packages (from dask->pciSeq==0.0.64.dev1) (2025.3.2)\n",
            "Requirement already satisfied: partd>=1.4.0 in /usr/local/lib/python3.11/dist-packages (from dask->pciSeq==0.0.64.dev1) (1.4.2)\n",
            "Requirement already satisfied: pyyaml>=5.3.1 in /usr/local/lib/python3.11/dist-packages (from dask->pciSeq==0.0.64.dev1) (6.0.2)\n",
            "Requirement already satisfied: toolz>=0.10.0 in /usr/local/lib/python3.11/dist-packages (from dask->pciSeq==0.0.64.dev1) (0.12.1)\n",
            "Requirement already satisfied: importlib_metadata>=4.13.0 in /usr/local/lib/python3.11/dist-packages (from dask->pciSeq==0.0.64.dev1) (8.7.0)\n",
            "Requirement already satisfied: Werkzeug>=3.1 in /usr/local/lib/python3.11/dist-packages (from flask->pciSeq==0.0.64.dev1) (3.1.3)\n",
            "Requirement already satisfied: itsdangerous>=2.2 in /usr/local/lib/python3.11/dist-packages (from flask->pciSeq==0.0.64.dev1) (2.2.0)\n",
            "Requirement already satisfied: blinker>=1.9 in /usr/local/lib/python3.11/dist-packages (from flask->pciSeq==0.0.64.dev1) (1.9.0)\n",
            "Requirement already satisfied: contourpy>=1.0.1 in /usr/local/lib/python3.11/dist-packages (from matplotlib->pciSeq==0.0.64.dev1) (1.3.2)\n",
            "Requirement already satisfied: cycler>=0.10 in /usr/local/lib/python3.11/dist-packages (from matplotlib->pciSeq==0.0.64.dev1) (0.12.1)\n",
            "Requirement already satisfied: fonttools>=4.22.0 in /usr/local/lib/python3.11/dist-packages (from matplotlib->pciSeq==0.0.64.dev1) (4.57.0)\n",
            "Requirement already satisfied: kiwisolver>=1.3.1 in /usr/local/lib/python3.11/dist-packages (from matplotlib->pciSeq==0.0.64.dev1) (1.4.8)\n",
            "Requirement already satisfied: pillow>=8 in /usr/local/lib/python3.11/dist-packages (from matplotlib->pciSeq==0.0.64.dev1) (11.2.1)\n",
            "Requirement already satisfied: pyparsing>=2.3.1 in /usr/local/lib/python3.11/dist-packages (from matplotlib->pciSeq==0.0.64.dev1) (3.2.3)\n",
            "Requirement already satisfied: python-dateutil>=2.7 in /usr/local/lib/python3.11/dist-packages (from matplotlib->pciSeq==0.0.64.dev1) (2.9.0.post0)\n",
            "Requirement already satisfied: llvmlite<0.44,>=0.43.0dev0 in /usr/local/lib/python3.11/dist-packages (from numba->pciSeq==0.0.64.dev1) (0.43.0)\n",
            "Requirement already satisfied: pytz>=2020.1 in /usr/local/lib/python3.11/dist-packages (from pandas->pciSeq==0.0.64.dev1) (2025.2)\n",
            "Requirement already satisfied: tzdata>=2022.7 in /usr/local/lib/python3.11/dist-packages (from pandas->pciSeq==0.0.64.dev1) (2025.2)\n",
            "Requirement already satisfied: tenacity>=6.2.0 in /usr/local/lib/python3.11/dist-packages (from plotly->pciSeq==0.0.64.dev1) (9.1.2)\n",
            "Requirement already satisfied: cffi>=1.0.0 in /usr/local/lib/python3.11/dist-packages (from pyvips->pciSeq==0.0.64.dev1) (1.17.1)\n",
            "Requirement already satisfied: imageio!=2.35.0,>=2.33 in /usr/local/lib/python3.11/dist-packages (from scikit-image->pciSeq==0.0.64.dev1) (2.37.0)\n",
            "Requirement already satisfied: tifffile>=2022.8.12 in /usr/local/lib/python3.11/dist-packages (from scikit-image->pciSeq==0.0.64.dev1) (2025.3.30)\n",
            "Requirement already satisfied: lazy-loader>=0.4 in /usr/local/lib/python3.11/dist-packages (from scikit-image->pciSeq==0.0.64.dev1) (0.4)\n",
            "Requirement already satisfied: joblib>=1.2.0 in /usr/local/lib/python3.11/dist-packages (from scikit-learn->pciSeq==0.0.64.dev1) (1.4.2)\n",
            "Requirement already satisfied: threadpoolctl>=3.1.0 in /usr/local/lib/python3.11/dist-packages (from scikit-learn->pciSeq==0.0.64.dev1) (3.6.0)\n",
            "Requirement already satisfied: cachetools<6,>=4.0 in /usr/local/lib/python3.11/dist-packages (from streamlit->pciSeq==0.0.64.dev1) (5.5.2)\n",
            "Requirement already satisfied: protobuf<7,>=3.20 in /usr/local/lib/python3.11/dist-packages (from streamlit->pciSeq==0.0.64.dev1) (5.29.4)\n",
            "Requirement already satisfied: pyarrow>=7.0 in /usr/local/lib/python3.11/dist-packages (from streamlit->pciSeq==0.0.64.dev1) (18.1.0)\n",
            "Requirement already satisfied: requests<3,>=2.27 in /usr/local/lib/python3.11/dist-packages (from streamlit->pciSeq==0.0.64.dev1) (2.32.3)\n",
            "Requirement already satisfied: toml<2,>=0.10.1 in /usr/local/lib/python3.11/dist-packages (from streamlit->pciSeq==0.0.64.dev1) (0.10.2)\n",
            "Collecting watchdog<7,>=2.1.5 (from streamlit->pciSeq==0.0.64.dev1)\n",
            "  Downloading watchdog-6.0.0-py3-none-manylinux2014_x86_64.whl.metadata (44 kB)\n",
            "\u001b[2K     \u001b[90m━━━━━━━━━━━━━━━━━━━━━━━━━━━━━━━━━━━━━━━━\u001b[0m \u001b[32m44.3/44.3 kB\u001b[0m \u001b[31m3.6 MB/s\u001b[0m eta \u001b[36m0:00:00\u001b[0m\n",
            "\u001b[?25hRequirement already satisfied: gitpython!=3.1.19,<4,>=3.0.7 in /usr/local/lib/python3.11/dist-packages (from streamlit->pciSeq==0.0.64.dev1) (3.1.44)\n",
            "Collecting pydeck<1,>=0.8.0b4 (from streamlit->pciSeq==0.0.64.dev1)\n",
            "  Downloading pydeck-0.9.1-py2.py3-none-any.whl.metadata (4.1 kB)\n",
            "Requirement already satisfied: tornado<7,>=6.0.3 in /usr/local/lib/python3.11/dist-packages (from streamlit->pciSeq==0.0.64.dev1) (6.4.2)\n",
            "Requirement already satisfied: pycparser in /usr/local/lib/python3.11/dist-packages (from cffi>=1.0.0->pyvips->pciSeq==0.0.64.dev1) (2.22)\n",
            "Requirement already satisfied: gitdb<5,>=4.0.1 in /usr/local/lib/python3.11/dist-packages (from gitpython!=3.1.19,<4,>=3.0.7->streamlit->pciSeq==0.0.64.dev1) (4.0.12)\n",
            "Requirement already satisfied: zipp>=3.20 in /usr/local/lib/python3.11/dist-packages (from importlib_metadata>=4.13.0->dask->pciSeq==0.0.64.dev1) (3.21.0)\n",
            "Requirement already satisfied: MarkupSafe>=2.0 in /usr/local/lib/python3.11/dist-packages (from jinja2->altair->pciSeq==0.0.64.dev1) (3.0.2)\n",
            "Requirement already satisfied: attrs>=22.2.0 in /usr/local/lib/python3.11/dist-packages (from jsonschema>=3.0->altair->pciSeq==0.0.64.dev1) (25.3.0)\n",
            "Requirement already satisfied: jsonschema-specifications>=2023.03.6 in /usr/local/lib/python3.11/dist-packages (from jsonschema>=3.0->altair->pciSeq==0.0.64.dev1) (2025.4.1)\n",
            "Requirement already satisfied: referencing>=0.28.4 in /usr/local/lib/python3.11/dist-packages (from jsonschema>=3.0->altair->pciSeq==0.0.64.dev1) (0.36.2)\n",
            "Requirement already satisfied: rpds-py>=0.7.1 in /usr/local/lib/python3.11/dist-packages (from jsonschema>=3.0->altair->pciSeq==0.0.64.dev1) (0.24.0)\n",
            "Requirement already satisfied: locket in /usr/local/lib/python3.11/dist-packages (from partd>=1.4.0->dask->pciSeq==0.0.64.dev1) (1.0.0)\n",
            "Requirement already satisfied: six>=1.5 in /usr/local/lib/python3.11/dist-packages (from python-dateutil>=2.7->matplotlib->pciSeq==0.0.64.dev1) (1.17.0)\n",
            "Requirement already satisfied: charset-normalizer<4,>=2 in /usr/local/lib/python3.11/dist-packages (from requests<3,>=2.27->streamlit->pciSeq==0.0.64.dev1) (3.4.1)\n",
            "Requirement already satisfied: idna<4,>=2.5 in /usr/local/lib/python3.11/dist-packages (from requests<3,>=2.27->streamlit->pciSeq==0.0.64.dev1) (3.10)\n",
            "Requirement already satisfied: urllib3<3,>=1.21.1 in /usr/local/lib/python3.11/dist-packages (from requests<3,>=2.27->streamlit->pciSeq==0.0.64.dev1) (2.4.0)\n",
            "Requirement already satisfied: certifi>=2017.4.17 in /usr/local/lib/python3.11/dist-packages (from requests<3,>=2.27->streamlit->pciSeq==0.0.64.dev1) (2025.4.26)\n",
            "Requirement already satisfied: smmap<6,>=3.0.1 in /usr/local/lib/python3.11/dist-packages (from gitdb<5,>=4.0.1->gitpython!=3.1.19,<4,>=3.0.7->streamlit->pciSeq==0.0.64.dev1) (5.0.2)\n",
            "Downloading alphashape-1.3.1-py2.py3-none-any.whl (13 kB)\n",
            "Downloading colorlog-6.9.0-py3-none-any.whl (11 kB)\n",
            "Downloading diplib-3.5.2-cp311-cp311-manylinux_2_17_x86_64.manylinux2014_x86_64.whl (8.4 MB)\n",
            "\u001b[2K   \u001b[90m━━━━━━━━━━━━━━━━━━━━━━━━━━━━━━━━━━━━━━━━\u001b[0m \u001b[32m8.4/8.4 MB\u001b[0m \u001b[31m18.3 MB/s\u001b[0m eta \u001b[36m0:00:00\u001b[0m\n",
            "\u001b[?25hDownloading fastremap-1.16.0-cp311-cp311-manylinux_2_17_x86_64.manylinux2014_x86_64.whl (6.7 MB)\n",
            "\u001b[2K   \u001b[90m━━━━━━━━━━━━━━━━━━━━━━━━━━━━━━━━━━━━━━━━\u001b[0m \u001b[32m6.7/6.7 MB\u001b[0m \u001b[31m70.5 MB/s\u001b[0m eta \u001b[36m0:00:00\u001b[0m\n",
            "\u001b[?25hDownloading laspy-2.5.4-py3-none-any.whl (84 kB)\n",
            "\u001b[2K   \u001b[90m━━━━━━━━━━━━━━━━━━━━━━━━━━━━━━━━━━━━━━━━\u001b[0m \u001b[32m84.3/84.3 kB\u001b[0m \u001b[31m6.1 MB/s\u001b[0m eta \u001b[36m0:00:00\u001b[0m\n",
            "\u001b[?25hDownloading numpy_groupies-0.11.2-py3-none-any.whl (40 kB)\n",
            "\u001b[2K   \u001b[90m━━━━━━━━━━━━━━━━━━━━━━━━━━━━━━━━━━━━━━━━\u001b[0m \u001b[32m40.6/40.6 kB\u001b[0m \u001b[31m2.4 MB/s\u001b[0m eta \u001b[36m0:00:00\u001b[0m\n",
            "\u001b[?25hDownloading redis-6.0.0-py3-none-any.whl (268 kB)\n",
            "\u001b[2K   \u001b[90m━━━━━━━━━━━━━━━━━━━━━━━━━━━━━━━━━━━━━━━━\u001b[0m \u001b[32m268.9/268.9 kB\u001b[0m \u001b[31m16.8 MB/s\u001b[0m eta \u001b[36m0:00:00\u001b[0m\n",
            "\u001b[?25hDownloading streamlit-1.45.0-py3-none-any.whl (9.9 MB)\n",
            "\u001b[2K   \u001b[90m━━━━━━━━━━━━━━━━━━━━━━━━━━━━━━━━━━━━━━━━\u001b[0m \u001b[32m9.9/9.9 MB\u001b[0m \u001b[31m54.9 MB/s\u001b[0m eta \u001b[36m0:00:00\u001b[0m\n",
            "\u001b[?25hDownloading tomlkit-0.13.2-py3-none-any.whl (37 kB)\n",
            "Downloading click_log-0.4.0-py2.py3-none-any.whl (4.3 kB)\n",
            "Downloading pydeck-0.9.1-py2.py3-none-any.whl (6.9 MB)\n",
            "\u001b[2K   \u001b[90m━━━━━━━━━━━━━━━━━━━━━━━━━━━━━━━━━━━━━━━━\u001b[0m \u001b[32m6.9/6.9 MB\u001b[0m \u001b[31m67.2 MB/s\u001b[0m eta \u001b[36m0:00:00\u001b[0m\n",
            "\u001b[?25hDownloading rtree-1.4.0-py3-none-manylinux2014_x86_64.manylinux_2_17_x86_64.whl (541 kB)\n",
            "\u001b[2K   \u001b[90m━━━━━━━━━━━━━━━━━━━━━━━━━━━━━━━━━━━━━━━━\u001b[0m \u001b[32m541.1/541.1 kB\u001b[0m \u001b[31m29.2 MB/s\u001b[0m eta \u001b[36m0:00:00\u001b[0m\n",
            "\u001b[?25hDownloading trimesh-4.6.8-py3-none-any.whl (709 kB)\n",
            "\u001b[2K   \u001b[90m━━━━━━━━━━━━━━━━━━━━━━━━━━━━━━━━━━━━━━━━\u001b[0m \u001b[32m709.3/709.3 kB\u001b[0m \u001b[31m36.5 MB/s\u001b[0m eta \u001b[36m0:00:00\u001b[0m\n",
            "\u001b[?25hDownloading watchdog-6.0.0-py3-none-manylinux2014_x86_64.whl (79 kB)\n",
            "\u001b[2K   \u001b[90m━━━━━━━━━━━━━━━━━━━━━━━━━━━━━━━━━━━━━━━━\u001b[0m \u001b[32m79.1/79.1 kB\u001b[0m \u001b[31m5.1 MB/s\u001b[0m eta \u001b[36m0:00:00\u001b[0m\n",
            "\u001b[?25hBuilding wheels for collected packages: pciSeq, pyvips\n",
            "  Building wheel for pciSeq (setup.py) ... \u001b[?25l\u001b[?25hdone\n",
            "  Created wheel for pciSeq: filename=pciSeq-0.0.64.dev1-py3-none-any.whl size=8658236 sha256=b6b974171794acfb0f0a7fbd5fc91bdb1a75ab516ec52760a65c61ee92cd7716\n",
            "  Stored in directory: /tmp/pip-ephem-wheel-cache-l8xmsu0f/wheels/70/7d/66/bc048c982d84065f06eb2850301aa69f15c600f5ed1ea4b3bb\n",
            "  Building wheel for pyvips (pyproject.toml) ... \u001b[?25l\u001b[?25hdone\n",
            "  Created wheel for pyvips: filename=pyvips-3.0.0-py3-none-any.whl size=54257 sha256=166aafdb28b12158f9154be6db7b718eb6bc2ee8df7028e199d3c300dff9507c\n",
            "  Stored in directory: /root/.cache/pip/wheels/8d/87/bb/ce9a0c257881486852c02c8c50a021684807b40d9579ec4568\n",
            "Successfully built pciSeq pyvips\n",
            "Installing collected packages: watchdog, trimesh, tomlkit, rtree, redis, numpy_groupies, laspy, fastremap, diplib, colorlog, click-log, pyvips, pydeck, alphashape, streamlit, pciSeq\n",
            "Successfully installed alphashape-1.3.1 click-log-0.4.0 colorlog-6.9.0 diplib-3.5.2 fastremap-1.16.0 laspy-2.5.4 numpy_groupies-0.11.2 pciSeq-0.0.64.dev1 pydeck-0.9.1 pyvips-3.0.0 redis-6.0.0 rtree-1.4.0 streamlit-1.45.0 tomlkit-0.13.2 trimesh-4.6.8 watchdog-6.0.0\n"
          ]
        }
      ]
    },
    {
      "cell_type": "code",
      "source": [
        "file_id = \"1wY1PUvAwk_S9MhKbCyB0HzH9oxNloP0M\"\n",
        "url = f\"https://drive.google.com/uc?export=download&id={file_id}\"\n",
        "output = \"pciSeq.pickle\""
      ],
      "metadata": {
        "id": "b6sagYbd8-j8"
      },
      "id": "b6sagYbd8-j8",
      "execution_count": 3,
      "outputs": []
    },
    {
      "cell_type": "code",
      "source": [
        "gdown.download(url, output, quiet=False)"
      ],
      "metadata": {
        "id": "1zEwSGSE9Bqx",
        "outputId": "3ebfd161-428b-4692-c5ba-bf46b99e942b",
        "colab": {
          "base_uri": "https://localhost:8080/",
          "height": 122
        }
      },
      "id": "1zEwSGSE9Bqx",
      "execution_count": 4,
      "outputs": [
        {
          "output_type": "stream",
          "name": "stderr",
          "text": [
            "Downloading...\n",
            "From (original): https://drive.google.com/uc?export=download&id=1wY1PUvAwk_S9MhKbCyB0HzH9oxNloP0M\n",
            "From (redirected): https://drive.google.com/uc?export=download&id=1wY1PUvAwk_S9MhKbCyB0HzH9oxNloP0M&confirm=t&uuid=625d5e22-baaa-4307-9778-b27f0dee0792\n",
            "To: /content/pciSeq.pickle\n",
            "100%|██████████| 1.79G/1.79G [00:14<00:00, 120MB/s]\n"
          ]
        },
        {
          "output_type": "execute_result",
          "data": {
            "text/plain": [
              "'pciSeq.pickle'"
            ],
            "application/vnd.google.colaboratory.intrinsic+json": {
              "type": "string"
            }
          },
          "metadata": {},
          "execution_count": 4
        }
      ]
    },
    {
      "cell_type": "code",
      "execution_count": 5,
      "id": "18becb73-bc52-44e6-9189-0d2856f241c9",
      "metadata": {
        "id": "18becb73-bc52-44e6-9189-0d2856f241c9"
      },
      "outputs": [],
      "source": [
        "obj = pd.read_pickle(output)"
      ]
    },
    {
      "cell_type": "code",
      "execution_count": 6,
      "id": "44c4ad14-0c15-4928-a9b6-840142461e29",
      "metadata": {
        "id": "44c4ad14-0c15-4928-a9b6-840142461e29"
      },
      "outputs": [],
      "source": [
        "def mvn_loglik(data, cell_label, cells, is3D):\n",
        "    \"\"\"\n",
        "    Calculates the multivariate normal log likelihood for spots.\n",
        "\n",
        "    Parameters:\n",
        "        data (np.array): Spot data.\n",
        "        cell_label (np.array): Cell labels for spots.\n",
        "        cells (Cells): Cells object containing cell data.\n",
        "        is3D (bool): Whether the data is 3D.\n",
        "\n",
        "    Returns:\n",
        "        np.array: Log likelihood values.\n",
        "    \"\"\"\n",
        "    centroids = cells.centroid.values[cell_label]\n",
        "    covs = cells.cov[cell_label]\n",
        "    if not is3D:\n",
        "        data = data[:, :-1]\n",
        "        centroids = centroids[:, :-1]\n",
        "\n",
        "\n",
        "    tic = time.time()\n",
        "    out = multiple_logpdfs(data, centroids, covs)\n",
        "    toc = time.time() - tic\n",
        "    print(f\"multiple_logpdfs finished in {toc} secs\")\n",
        "\n",
        "    param = list(zip(*[data, centroids, covs]))\n",
        "    tic\n",
        "    out_2 = [multivariate_normal.logpdf(p[0], p[1], p[2]) for i, p in enumerate(param)]\n",
        "    toc = time.time() - tic\n",
        "    print(f\"multivariate_normal finished in {toc} secs\")\n",
        "    return out, out_2"
      ]
    },
    {
      "cell_type": "code",
      "execution_count": 7,
      "id": "8a08df8a-548b-4fb5-8696-32175f4a88d7",
      "metadata": {
        "id": "8a08df8a-548b-4fb5-8696-32175f4a88d7"
      },
      "outputs": [],
      "source": [
        "def multiple_logpdfs(x: np.ndarray, means: np.ndarray, cov: np.ndarray) -> np.ndarray:\n",
        "    \"\"\"\n",
        "    vectorised mvn log likelihood evaluated at multiple pairs of (centroid_1, cov_1), ..., (centroid_N, cov_N)\n",
        "    Taken from http://gregorygundersen.com/blog/2020/12/12/group-multivariate-normal-pdf/\n",
        "    \"\"\"\n",
        "    # Thankfully, NumPy broadcasts `eigh`.\n",
        "    vals, vecs = np.linalg.eigh(cov)\n",
        "\n",
        "    # Compute the log determinants across the second axis.\n",
        "    logdets = np.sum(np.log(vals), axis=1)\n",
        "\n",
        "    # Invert the eigenvalues.\n",
        "    valsinvs = 1. / vals\n",
        "\n",
        "    # Add a dimension to `valsinvs` so that NumPy broadcasts appropriately.\n",
        "    Us = vecs * np.sqrt(valsinvs)[:, None]\n",
        "    devs = x - means\n",
        "\n",
        "    # Use `einsum` for matrix-vector multiplications across the first dimension.\n",
        "    devUs = np.einsum('ni, nij->nj', devs, Us)\n",
        "\n",
        "    # Compute the Mahalanobis distance by squaring each term and summing.\n",
        "    mahas = np.sum(np.square(devUs), axis=1)\n",
        "\n",
        "    # Compute and broadcast scalar normalizers.\n",
        "    dim = len(vals[0])\n",
        "    log2pi = np.log(2 * np.pi)\n",
        "\n",
        "    return -0.5 * (dim * log2pi + mahas + logdets)"
      ]
    },
    {
      "cell_type": "markdown",
      "id": "876434ee-5eac-443a-90fd-637e4f7fac38",
      "metadata": {
        "id": "876434ee-5eac-443a-90fd-637e4f7fac38"
      },
      "source": [
        "### Evaluation"
      ]
    },
    {
      "cell_type": "code",
      "execution_count": 8,
      "id": "35ddeaf5-8969-43cf-b17b-35adf04a390d",
      "metadata": {
        "id": "35ddeaf5-8969-43cf-b17b-35adf04a390d"
      },
      "outputs": [],
      "source": [
        "# first for each one of the spots, get the label of its closest cell\n",
        "labels = obj.spots.parent_cell_id[:, 0]"
      ]
    },
    {
      "cell_type": "code",
      "execution_count": 9,
      "id": "b638cf0e-d6f8-4304-9f70-b907c1e3fce6",
      "metadata": {
        "id": "b638cf0e-d6f8-4304-9f70-b907c1e3fce6",
        "outputId": "68f14503-7236-480b-9024-7be7ebc9579a",
        "colab": {
          "base_uri": "https://localhost:8080/"
        }
      },
      "outputs": [
        {
          "output_type": "stream",
          "name": "stdout",
          "text": [
            "multiple_logpdfs finished in 1.9745633602142334 secs\n",
            "multivariate_normal finished in 127.72839331626892 secs\n"
          ]
        }
      ],
      "source": [
        "# Pass now the spots xyz coords, the labels, the cell object and evaluate the normal loglikelihood\n",
        "# The first return value is the loglikelihood calculated from our user-defined function\n",
        "# The second return value is the logliehood calculated from python's scipy library\n",
        "mvn_loglik_1, mvn_loglik_2 = mvn_loglik(obj.spots.xyz_coords, labels, obj.cells, obj.config['is3D'])"
      ]
    },
    {
      "cell_type": "markdown",
      "id": "484d3b8d-19cb-4930-84fd-7493eb3150e7",
      "metadata": {
        "id": "484d3b8d-19cb-4930-84fd-7493eb3150e7"
      },
      "source": [
        "### Sanity checking"
      ]
    },
    {
      "cell_type": "code",
      "execution_count": 10,
      "id": "2d5a4ccd-64d1-4d96-aff5-402f903cbc0f",
      "metadata": {
        "id": "2d5a4ccd-64d1-4d96-aff5-402f903cbc0f",
        "outputId": "ef16b66c-f5e6-4b3b-d2f9-d2698129aa90",
        "colab": {
          "base_uri": "https://localhost:8080/"
        }
      },
      "outputs": [
        {
          "output_type": "execute_result",
          "data": {
            "text/plain": [
              "889307"
            ]
          },
          "metadata": {},
          "execution_count": 10
        }
      ],
      "source": [
        "len(mvn_loglik_1)"
      ]
    },
    {
      "cell_type": "code",
      "execution_count": 11,
      "id": "6de41a16-dc42-45f5-a83f-98649875a6c7",
      "metadata": {
        "id": "6de41a16-dc42-45f5-a83f-98649875a6c7",
        "outputId": "68031dcf-c0e2-49c1-820f-0df13b2881e9",
        "colab": {
          "base_uri": "https://localhost:8080/"
        }
      },
      "outputs": [
        {
          "output_type": "execute_result",
          "data": {
            "text/plain": [
              "889307"
            ]
          },
          "metadata": {},
          "execution_count": 11
        }
      ],
      "source": [
        "len(mvn_loglik_2)"
      ]
    },
    {
      "cell_type": "code",
      "execution_count": 12,
      "id": "3ddba6da-ee08-4bf7-acf2-28889f694ed0",
      "metadata": {
        "id": "3ddba6da-ee08-4bf7-acf2-28889f694ed0",
        "outputId": "25c0ab45-cdd5-405b-971f-38aed94bebb3",
        "colab": {
          "base_uri": "https://localhost:8080/"
        }
      },
      "outputs": [
        {
          "output_type": "execute_result",
          "data": {
            "text/plain": [
              "True"
            ]
          },
          "metadata": {},
          "execution_count": 12
        }
      ],
      "source": [
        "np.allclose(mvn_loglik_1, mvn_loglik_2)"
      ]
    },
    {
      "cell_type": "code",
      "execution_count": 12,
      "id": "887de489-6d75-4e45-816c-03b0d6e7111d",
      "metadata": {
        "id": "887de489-6d75-4e45-816c-03b0d6e7111d"
      },
      "outputs": [],
      "source": []
    },
    {
      "cell_type": "code",
      "execution_count": 12,
      "id": "81f40ae7-da39-4e5a-876c-4a2212e0447d",
      "metadata": {
        "id": "81f40ae7-da39-4e5a-876c-4a2212e0447d"
      },
      "outputs": [],
      "source": []
    }
  ],
  "metadata": {
    "kernelspec": {
      "display_name": "Python 3 (ipykernel)",
      "language": "python",
      "name": "python3"
    },
    "language_info": {
      "codemirror_mode": {
        "name": "ipython",
        "version": 3
      },
      "file_extension": ".py",
      "mimetype": "text/x-python",
      "name": "python",
      "nbconvert_exporter": "python",
      "pygments_lexer": "ipython3",
      "version": "3.8.17"
    },
    "colab": {
      "provenance": []
    }
  },
  "nbformat": 4,
  "nbformat_minor": 5
}