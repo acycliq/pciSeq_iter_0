{
 "cells": [
  {
   "cell_type": "markdown",
   "id": "3ccc51e4-982c-464e-8796-9b2c59ba7990",
   "metadata": {},
   "source": [
    "### Appendix. Multivariate normal density"
   ]
  },
  {
   "cell_type": "markdown",
   "id": "4c1bfc7b-c943-491a-9ddc-3ec310af6463",
   "metadata": {},
   "source": [
    "To evaluate the normal log-likelikelihood I am using a function that uses an eigendecomposition of the covariance matrix.\n",
    "This is a notebook to compare the loglikelihood against the logpdf function from scipy.stats.multivariate_normal"
   ]
  },
  {
   "cell_type": "code",
   "execution_count": 1,
   "id": "d9f0900c-89bc-4762-82dc-8263b64cfc55",
   "metadata": {},
   "outputs": [],
   "source": [
    "import pandas as pd\n",
    "import numpy as np\n",
    "from scipy.stats import multivariate_normal\n",
    "import time"
   ]
  },
  {
   "cell_type": "code",
   "execution_count": 2,
   "id": "18becb73-bc52-44e6-9189-0d2856f241c9",
   "metadata": {},
   "outputs": [],
   "source": [
    "obj = pd.read_pickle('pciSeq.pickle')\n",
    "# obj = pd.read_pickle('iter_0.pickle')"
   ]
  },
  {
   "cell_type": "code",
   "execution_count": 3,
   "id": "44c4ad14-0c15-4928-a9b6-840142461e29",
   "metadata": {},
   "outputs": [],
   "source": [
    "def mvn_loglik(data, cell_label, cells, is3D):\n",
    "    \"\"\"\n",
    "    Calculates the multivariate normal log likelihood for spots.\n",
    "\n",
    "    Parameters:\n",
    "        data (np.array): Spot data.\n",
    "        cell_label (np.array): Cell labels for spots.\n",
    "        cells (Cells): Cells object containing cell data.\n",
    "        is3D (bool): Whether the data is 3D.\n",
    "\n",
    "    Returns:\n",
    "        np.array: Log likelihood values.\n",
    "    \"\"\"\n",
    "    centroids = cells.centroid.values[cell_label]\n",
    "    covs = cells.cov[cell_label]\n",
    "    if not is3D:\n",
    "        data = data[:, :-1]\n",
    "        centroids = centroids[:, :-1]\n",
    "\n",
    "        \n",
    "    tic = time.time()\n",
    "    out = multiple_logpdfs(data, centroids, covs)\n",
    "    toc = time.time() - tic\n",
    "    print(f\"multiple_logpdfs finished in {toc} secs\")\n",
    "\n",
    "    param = list(zip(*[data, centroids, covs]))\n",
    "    tic\n",
    "    out_2 = [multivariate_normal.logpdf(p[0], p[1], p[2]) for i, p in enumerate(param)]\n",
    "    toc = time.time() - tic\n",
    "    print(f\"multivariate_normal finished in {toc} secs\")\n",
    "    return out, out_2"
   ]
  },
  {
   "cell_type": "code",
   "execution_count": 4,
   "id": "8a08df8a-548b-4fb5-8696-32175f4a88d7",
   "metadata": {},
   "outputs": [],
   "source": [
    "def multiple_logpdfs(x: np.ndarray, means: np.ndarray, cov: np.ndarray) -> np.ndarray:\n",
    "    \"\"\"\n",
    "    vectorised mvn log likelihood evaluated at multiple pairs of (centroid_1, cov_1), ..., (centroid_N, cov_N)\n",
    "    Taken from http://gregorygundersen.com/blog/2020/12/12/group-multivariate-normal-pdf/\n",
    "    \"\"\"\n",
    "    # Thankfully, NumPy broadcasts `eigh`.\n",
    "    vals, vecs = np.linalg.eigh(cov)\n",
    "\n",
    "    # Compute the log determinants across the second axis.\n",
    "    logdets = np.sum(np.log(vals), axis=1)\n",
    "\n",
    "    # Invert the eigenvalues.\n",
    "    valsinvs = 1. / vals\n",
    "\n",
    "    # Add a dimension to `valsinvs` so that NumPy broadcasts appropriately.\n",
    "    Us = vecs * np.sqrt(valsinvs)[:, None]\n",
    "    devs = x - means\n",
    "\n",
    "    # Use `einsum` for matrix-vector multiplications across the first dimension.\n",
    "    devUs = np.einsum('ni, nij->nj', devs, Us)\n",
    "\n",
    "    # Compute the Mahalanobis distance by squaring each term and summing.\n",
    "    mahas = np.sum(np.square(devUs), axis=1)\n",
    "\n",
    "    # Compute and broadcast scalar normalizers.\n",
    "    dim = len(vals[0])\n",
    "    log2pi = np.log(2 * np.pi)\n",
    "\n",
    "    return -0.5 * (dim * log2pi + mahas + logdets)"
   ]
  },
  {
   "cell_type": "markdown",
   "id": "876434ee-5eac-443a-90fd-637e4f7fac38",
   "metadata": {},
   "source": [
    "### Evaluation"
   ]
  },
  {
   "cell_type": "code",
   "execution_count": 5,
   "id": "35ddeaf5-8969-43cf-b17b-35adf04a390d",
   "metadata": {},
   "outputs": [],
   "source": [
    "# first for each one of the spots, get the label of its closest cell\n",
    "labels = obj.spots.parent_cell_id[:, 0]"
   ]
  },
  {
   "cell_type": "code",
   "execution_count": 6,
   "id": "b638cf0e-d6f8-4304-9f70-b907c1e3fce6",
   "metadata": {},
   "outputs": [
    {
     "name": "stdout",
     "output_type": "stream",
     "text": [
      "multiple_logpdfs finished in 0.3523552417755127 secs\n",
      "multivariate_normal finished in 54.98275709152222 secs\n"
     ]
    }
   ],
   "source": [
    "# Pass now the spots xyz coords, the labels, the cell object and evaluate the normal loglikelihood\n",
    "# The first return value is the loglikelihood calculated from our user-defined function\n",
    "# The second return value is the logliehood calculated from python's scipy library\n",
    "mvn_loglik_1, mvn_loglik_2 = mvn_loglik(obj.spots.xyz_coords, labels, obj.cells, obj.config['is3D'])"
   ]
  },
  {
   "cell_type": "markdown",
   "id": "484d3b8d-19cb-4930-84fd-7493eb3150e7",
   "metadata": {},
   "source": [
    "### Sanity checking"
   ]
  },
  {
   "cell_type": "code",
   "execution_count": 7,
   "id": "2d5a4ccd-64d1-4d96-aff5-402f903cbc0f",
   "metadata": {},
   "outputs": [
    {
     "data": {
      "text/plain": [
       "889307"
      ]
     },
     "execution_count": 7,
     "metadata": {},
     "output_type": "execute_result"
    }
   ],
   "source": [
    "len(mvn_loglik_1)"
   ]
  },
  {
   "cell_type": "code",
   "execution_count": 8,
   "id": "6de41a16-dc42-45f5-a83f-98649875a6c7",
   "metadata": {},
   "outputs": [
    {
     "data": {
      "text/plain": [
       "889307"
      ]
     },
     "execution_count": 8,
     "metadata": {},
     "output_type": "execute_result"
    }
   ],
   "source": [
    "len(mvn_loglik_2)"
   ]
  },
  {
   "cell_type": "code",
   "execution_count": 9,
   "id": "3ddba6da-ee08-4bf7-acf2-28889f694ed0",
   "metadata": {},
   "outputs": [
    {
     "data": {
      "text/plain": [
       "True"
      ]
     },
     "execution_count": 9,
     "metadata": {},
     "output_type": "execute_result"
    }
   ],
   "source": [
    "np.allclose(mvn_loglik_1, mvn_loglik_2)"
   ]
  },
  {
   "cell_type": "code",
   "execution_count": null,
   "id": "887de489-6d75-4e45-816c-03b0d6e7111d",
   "metadata": {},
   "outputs": [],
   "source": []
  },
  {
   "cell_type": "code",
   "execution_count": null,
   "id": "81f40ae7-da39-4e5a-876c-4a2212e0447d",
   "metadata": {},
   "outputs": [],
   "source": []
  }
 ],
 "metadata": {
  "kernelspec": {
   "display_name": "Python 3 (ipykernel)",
   "language": "python",
   "name": "python3"
  },
  "language_info": {
   "codemirror_mode": {
    "name": "ipython",
    "version": 3
   },
   "file_extension": ".py",
   "mimetype": "text/x-python",
   "name": "python",
   "nbconvert_exporter": "python",
   "pygments_lexer": "ipython3",
   "version": "3.8.17"
  }
 },
 "nbformat": 4,
 "nbformat_minor": 5
}
