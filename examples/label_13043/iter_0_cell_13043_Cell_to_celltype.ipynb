{
  "cells": [
    {
      "cell_type": "markdown",
      "id": "82072a65-c7d2-44d0-9f7c-4950c840ea6d",
      "metadata": {
        "id": "82072a65-c7d2-44d0-9f7c-4950c840ea6d"
      },
      "source": [
        "# Iteration 0: Cell to cell type assignment. Cell label = 13043¶"
      ]
    },
    {
      "cell_type": "code",
      "execution_count": null,
      "id": "6143a94f-2050-437b-bfac-10448faf8ee7",
      "metadata": {
        "id": "6143a94f-2050-437b-bfac-10448faf8ee7"
      },
      "outputs": [],
      "source": [
        "# Uncomment the line below to show all rows in a pandas dataframe\n",
        "# import pandas as pd\n",
        "# pd.set_option('display.max_rows', None)"
      ]
    },
    {
      "cell_type": "markdown",
      "id": "16706b4d-b001-45e0-9d2f-1aa15d59a2f3",
      "metadata": {
        "id": "16706b4d-b001-45e0-9d2f-1aa15d59a2f3"
      },
      "source": [
        "### This is a notebook demonstrating what happens under the hood in the cell to cell type step in pciSeq\n",
        "\n",
        "The focus here is on a particular cell (with label 13043) that has 24 gene counts but inside the first iteration the most likely class is the Zero class. The interesting aspect here is that the negative binomial doesnt yiled the Zero class as the most likely. It is the prior that shifts the results because the prior puts more weight to the zero class (50%) than to any other. However in the next iteration Zero class is replaced by TEGLU4 as the most likely class"
      ]
    },
    {
      "cell_type": "markdown",
      "id": "84f9d02a-f9a5-492b-906c-105380be7747",
      "metadata": {
        "id": "84f9d02a-f9a5-492b-906c-105380be7747"
      },
      "source": [
        "![Screenshot_13043.png](https://github.com/acycliq/pciSeq_iter_0/blob/master/examples/label_13043/Screenshot_13043.png?raw=1)"
      ]
    },
    {
      "cell_type": "code",
      "execution_count": null,
      "id": "c876831b-5f1f-4a24-b3c9-b46c15af14ab",
      "metadata": {
        "id": "c876831b-5f1f-4a24-b3c9-b46c15af14ab",
        "outputId": "dc878f42-ac0e-4dd7-a125-3d1e89250529"
      },
      "outputs": [
        {
          "name": "stdout",
          "output_type": "stream",
          "text": [
            "Requirement already satisfied: gdown in /home/dimitris/miniconda3/envs/pciSeq/lib/python3.8/site-packages (5.2.0)\n",
            "Requirement already satisfied: beautifulsoup4 in /home/dimitris/miniconda3/envs/pciSeq/lib/python3.8/site-packages (from gdown) (4.12.2)\n",
            "Requirement already satisfied: filelock in /home/dimitris/miniconda3/envs/pciSeq/lib/python3.8/site-packages (from gdown) (3.16.1)\n",
            "Requirement already satisfied: requests[socks] in /home/dimitris/miniconda3/envs/pciSeq/lib/python3.8/site-packages (from gdown) (2.31.0)\n",
            "Requirement already satisfied: tqdm in /home/dimitris/miniconda3/envs/pciSeq/lib/python3.8/site-packages (from gdown) (4.66.1)\n",
            "Requirement already satisfied: soupsieve>1.2 in /home/dimitris/miniconda3/envs/pciSeq/lib/python3.8/site-packages (from beautifulsoup4->gdown) (2.4.1)\n",
            "Requirement already satisfied: charset-normalizer<4,>=2 in /home/dimitris/miniconda3/envs/pciSeq/lib/python3.8/site-packages (from requests[socks]->gdown) (3.2.0)\n",
            "Requirement already satisfied: idna<4,>=2.5 in /home/dimitris/miniconda3/envs/pciSeq/lib/python3.8/site-packages (from requests[socks]->gdown) (3.4)\n",
            "Requirement already satisfied: urllib3<3,>=1.21.1 in /home/dimitris/miniconda3/envs/pciSeq/lib/python3.8/site-packages (from requests[socks]->gdown) (2.0.4)\n",
            "Requirement already satisfied: certifi>=2017.4.17 in /home/dimitris/miniconda3/envs/pciSeq/lib/python3.8/site-packages (from requests[socks]->gdown) (2024.8.30)\n",
            "Requirement already satisfied: PySocks!=1.5.7,>=1.5.6 in /home/dimitris/miniconda3/envs/pciSeq/lib/python3.8/site-packages (from requests[socks]->gdown) (1.7.1)\n"
          ]
        }
      ],
      "source": [
        "!pip install gdown"
      ]
    },
    {
      "cell_type": "code",
      "execution_count": null,
      "id": "5b9c1a04-4df5-44c3-bcf9-2be67dee13e2",
      "metadata": {
        "id": "5b9c1a04-4df5-44c3-bcf9-2be67dee13e2"
      },
      "outputs": [],
      "source": [
        "import pandas as pd\n",
        "import numpy as np\n",
        "import scipy\n",
        "from scipy.special import softmax\n",
        "import gdown"
      ]
    },
    {
      "cell_type": "code",
      "execution_count": null,
      "id": "dRk-peuP41Vj",
      "metadata": {
        "colab": {
          "base_uri": "https://localhost:8080/"
        },
        "id": "dRk-peuP41Vj",
        "outputId": "35000b6b-b637-49f6-928b-63f874920b7a"
      },
      "outputs": [
        {
          "name": "stdout",
          "output_type": "stream",
          "text": [
            "Collecting git+https://github.com/acycliq/pciSeq.git@dev_3d\n",
            "  Cloning https://github.com/acycliq/pciSeq.git (to revision dev_3d) to /tmp/pip-req-build-wa1w7ja8\n",
            "  Running command git clone --filter=blob:none --quiet https://github.com/acycliq/pciSeq.git /tmp/pip-req-build-wa1w7ja8\n",
            "  Running command git checkout -b dev_3d --track origin/dev_3d\n",
            "  Switched to a new branch 'dev_3d'\n",
            "  Branch 'dev_3d' set up to track remote branch 'dev_3d' from 'origin'.\n",
            "  Resolved https://github.com/acycliq/pciSeq.git to commit 31fd7688f1f848d9e59931636ce39479614ea23d\n",
            "  Preparing metadata (setup.py) ... \u001b[?25ldone\n",
            "\u001b[?25hRequirement already satisfied: numpy_groupies in /home/dimitris/miniconda3/envs/pciSeq/lib/python3.8/site-packages (from pciSeq==0.0.64.dev1) (0.9.22)\n",
            "Requirement already satisfied: pandas in /home/dimitris/miniconda3/envs/pciSeq/lib/python3.8/site-packages (from pciSeq==0.0.64.dev1) (2.0.3)\n",
            "Requirement already satisfied: dask in /home/dimitris/miniconda3/envs/pciSeq/lib/python3.8/site-packages (from pciSeq==0.0.64.dev1) (2023.5.0)\n",
            "Requirement already satisfied: scipy in /home/dimitris/miniconda3/envs/pciSeq/lib/python3.8/site-packages (from pciSeq==0.0.64.dev1) (1.10.1)\n",
            "Requirement already satisfied: streamlit in /home/dimitris/miniconda3/envs/pciSeq/lib/python3.8/site-packages (from pciSeq==0.0.64.dev1) (1.24.1)\n",
            "Requirement already satisfied: altair in /home/dimitris/miniconda3/envs/pciSeq/lib/python3.8/site-packages (from pciSeq==0.0.64.dev1) (5.1.0)\n",
            "Requirement already satisfied: scikit-image in /home/dimitris/miniconda3/envs/pciSeq/lib/python3.8/site-packages (from pciSeq==0.0.64.dev1) (0.21.0)\n",
            "Requirement already satisfied: scikit-learn in /home/dimitris/miniconda3/envs/pciSeq/lib/python3.8/site-packages (from pciSeq==0.0.64.dev1) (1.3.2)\n",
            "Requirement already satisfied: tqdm in /home/dimitris/miniconda3/envs/pciSeq/lib/python3.8/site-packages (from pciSeq==0.0.64.dev1) (4.66.1)\n",
            "Requirement already satisfied: flask in /home/dimitris/miniconda3/envs/pciSeq/lib/python3.8/site-packages (from pciSeq==0.0.64.dev1) (3.0.3)\n",
            "Requirement already satisfied: fastremap in /home/dimitris/miniconda3/envs/pciSeq/lib/python3.8/site-packages (from pciSeq==0.0.64.dev1) (1.14.0)\n",
            "Requirement already satisfied: numexpr in /home/dimitris/miniconda3/envs/pciSeq/lib/python3.8/site-packages (from pciSeq==0.0.64.dev1) (2.8.4)\n",
            "Requirement already satisfied: diplib in /home/dimitris/miniconda3/envs/pciSeq/lib/python3.8/site-packages (from pciSeq==0.0.64.dev1) (3.4.0)\n",
            "Requirement already satisfied: pyvips in /home/dimitris/miniconda3/envs/pciSeq/lib/python3.8/site-packages (from pciSeq==0.0.64.dev1) (2.2.1)\n",
            "Requirement already satisfied: natsort in /home/dimitris/miniconda3/envs/pciSeq/lib/python3.8/site-packages (from pciSeq==0.0.64.dev1) (8.4.0)\n",
            "Requirement already satisfied: redis in /home/dimitris/miniconda3/envs/pciSeq/lib/python3.8/site-packages (from pciSeq==0.0.64.dev1) (5.0.0)\n",
            "Requirement already satisfied: matplotlib in /home/dimitris/miniconda3/envs/pciSeq/lib/python3.8/site-packages (from pciSeq==0.0.64.dev1) (3.7.2)\n",
            "Requirement already satisfied: laspy in /home/dimitris/miniconda3/envs/pciSeq/lib/python3.8/site-packages (from pciSeq==0.0.64.dev1) (2.3.0)\n",
            "Requirement already satisfied: tomlkit in /home/dimitris/miniconda3/envs/pciSeq/lib/python3.8/site-packages (from pciSeq==0.0.64.dev1) (0.12.4)\n",
            "Requirement already satisfied: colorlog in /home/dimitris/miniconda3/envs/pciSeq/lib/python3.8/site-packages (from pciSeq==0.0.64.dev1) (6.8.2)\n",
            "Requirement already satisfied: shapely in /home/dimitris/miniconda3/envs/pciSeq/lib/python3.8/site-packages (from pciSeq==0.0.64.dev1) (2.0.7)\n",
            "Requirement already satisfied: alphashape in /home/dimitris/miniconda3/envs/pciSeq/lib/python3.8/site-packages (from pciSeq==0.0.64.dev1) (1.3.1)\n",
            "Requirement already satisfied: opt_einsum in /home/dimitris/miniconda3/envs/pciSeq/lib/python3.8/site-packages (from pciSeq==0.0.64.dev1) (3.4.0)\n",
            "Requirement already satisfied: plotly in /home/dimitris/miniconda3/envs/pciSeq/lib/python3.8/site-packages (from pciSeq==0.0.64.dev1) (6.0.0)\n",
            "Requirement already satisfied: numba in /home/dimitris/miniconda3/envs/pciSeq/lib/python3.8/site-packages (from pciSeq==0.0.64.dev1) (0.58.1)\n",
            "Requirement already satisfied: Click>=6.0 in /home/dimitris/miniconda3/envs/pciSeq/lib/python3.8/site-packages (from alphashape->pciSeq==0.0.64.dev1) (8.1.7)\n",
            "Requirement already satisfied: click-log>=0.3.2 in /home/dimitris/miniconda3/envs/pciSeq/lib/python3.8/site-packages (from alphashape->pciSeq==0.0.64.dev1) (0.4.0)\n",
            "Requirement already satisfied: numpy>=1.8.0 in /home/dimitris/miniconda3/envs/pciSeq/lib/python3.8/site-packages (from alphashape->pciSeq==0.0.64.dev1) (1.24.4)\n",
            "Requirement already satisfied: trimesh>=3.9.8 in /home/dimitris/miniconda3/envs/pciSeq/lib/python3.8/site-packages (from alphashape->pciSeq==0.0.64.dev1) (4.6.3)\n",
            "Requirement already satisfied: networkx>=2.5 in /home/dimitris/miniconda3/envs/pciSeq/lib/python3.8/site-packages (from alphashape->pciSeq==0.0.64.dev1) (3.1)\n",
            "Requirement already satisfied: rtree>=0.9.7 in /home/dimitris/miniconda3/envs/pciSeq/lib/python3.8/site-packages (from alphashape->pciSeq==0.0.64.dev1) (1.3.0)\n",
            "Requirement already satisfied: jinja2 in /home/dimitris/miniconda3/envs/pciSeq/lib/python3.8/site-packages (from altair->pciSeq==0.0.64.dev1) (3.1.2)\n",
            "Requirement already satisfied: jsonschema>=3.0 in /home/dimitris/miniconda3/envs/pciSeq/lib/python3.8/site-packages (from altair->pciSeq==0.0.64.dev1) (4.23.0)\n",
            "Requirement already satisfied: packaging in /home/dimitris/miniconda3/envs/pciSeq/lib/python3.8/site-packages (from altair->pciSeq==0.0.64.dev1) (23.1)\n",
            "Requirement already satisfied: toolz in /home/dimitris/miniconda3/envs/pciSeq/lib/python3.8/site-packages (from altair->pciSeq==0.0.64.dev1) (0.12.0)\n",
            "Requirement already satisfied: typing-extensions>=4.0.1 in /home/dimitris/miniconda3/envs/pciSeq/lib/python3.8/site-packages (from altair->pciSeq==0.0.64.dev1) (4.7.1)\n",
            "Requirement already satisfied: python-dateutil>=2.8.2 in /home/dimitris/miniconda3/envs/pciSeq/lib/python3.8/site-packages (from pandas->pciSeq==0.0.64.dev1) (2.8.2)\n",
            "Requirement already satisfied: pytz>=2020.1 in /home/dimitris/miniconda3/envs/pciSeq/lib/python3.8/site-packages (from pandas->pciSeq==0.0.64.dev1) (2023.3)\n",
            "Requirement already satisfied: tzdata>=2022.1 in /home/dimitris/miniconda3/envs/pciSeq/lib/python3.8/site-packages (from pandas->pciSeq==0.0.64.dev1) (2023.3)\n",
            "Requirement already satisfied: cloudpickle>=1.5.0 in /home/dimitris/miniconda3/envs/pciSeq/lib/python3.8/site-packages (from dask->pciSeq==0.0.64.dev1) (3.0.0)\n",
            "Requirement already satisfied: fsspec>=2021.09.0 in /home/dimitris/miniconda3/envs/pciSeq/lib/python3.8/site-packages (from dask->pciSeq==0.0.64.dev1) (2024.10.0)\n",
            "Requirement already satisfied: partd>=1.2.0 in /home/dimitris/miniconda3/envs/pciSeq/lib/python3.8/site-packages (from dask->pciSeq==0.0.64.dev1) (1.4.1)\n",
            "Requirement already satisfied: pyyaml>=5.3.1 in /home/dimitris/miniconda3/envs/pciSeq/lib/python3.8/site-packages (from dask->pciSeq==0.0.64.dev1) (6.0.1)\n",
            "Requirement already satisfied: importlib-metadata>=4.13.0 in /home/dimitris/miniconda3/envs/pciSeq/lib/python3.8/site-packages (from dask->pciSeq==0.0.64.dev1) (6.8.0)\n",
            "Requirement already satisfied: Werkzeug>=3.0.0 in /home/dimitris/miniconda3/envs/pciSeq/lib/python3.8/site-packages (from flask->pciSeq==0.0.64.dev1) (3.0.6)\n",
            "Requirement already satisfied: itsdangerous>=2.1.2 in /home/dimitris/miniconda3/envs/pciSeq/lib/python3.8/site-packages (from flask->pciSeq==0.0.64.dev1) (2.1.2)\n",
            "Requirement already satisfied: blinker>=1.6.2 in /home/dimitris/miniconda3/envs/pciSeq/lib/python3.8/site-packages (from flask->pciSeq==0.0.64.dev1) (1.6.2)\n",
            "Requirement already satisfied: contourpy>=1.0.1 in /home/dimitris/miniconda3/envs/pciSeq/lib/python3.8/site-packages (from matplotlib->pciSeq==0.0.64.dev1) (1.1.0)\n",
            "Requirement already satisfied: cycler>=0.10 in /home/dimitris/miniconda3/envs/pciSeq/lib/python3.8/site-packages (from matplotlib->pciSeq==0.0.64.dev1) (0.11.0)\n",
            "Requirement already satisfied: fonttools>=4.22.0 in /home/dimitris/miniconda3/envs/pciSeq/lib/python3.8/site-packages (from matplotlib->pciSeq==0.0.64.dev1) (4.42.1)\n",
            "Requirement already satisfied: kiwisolver>=1.0.1 in /home/dimitris/miniconda3/envs/pciSeq/lib/python3.8/site-packages (from matplotlib->pciSeq==0.0.64.dev1) (1.4.5)\n",
            "Requirement already satisfied: pillow>=6.2.0 in /home/dimitris/miniconda3/envs/pciSeq/lib/python3.8/site-packages (from matplotlib->pciSeq==0.0.64.dev1) (9.5.0)\n",
            "Requirement already satisfied: pyparsing<3.1,>=2.3.1 in /home/dimitris/miniconda3/envs/pciSeq/lib/python3.8/site-packages (from matplotlib->pciSeq==0.0.64.dev1) (3.0.9)\n",
            "Requirement already satisfied: importlib-resources>=3.2.0 in /home/dimitris/miniconda3/envs/pciSeq/lib/python3.8/site-packages (from matplotlib->pciSeq==0.0.64.dev1) (6.0.1)\n",
            "Requirement already satisfied: llvmlite<0.42,>=0.41.0dev0 in /home/dimitris/miniconda3/envs/pciSeq/lib/python3.8/site-packages (from numba->pciSeq==0.0.64.dev1) (0.41.1)\n",
            "Requirement already satisfied: narwhals>=1.15.1 in /home/dimitris/miniconda3/envs/pciSeq/lib/python3.8/site-packages (from plotly->pciSeq==0.0.64.dev1) (1.24.1)\n",
            "Requirement already satisfied: cffi>=1.0.0 in /home/dimitris/miniconda3/envs/pciSeq/lib/python3.8/site-packages (from pyvips->pciSeq==0.0.64.dev1) (1.15.1)\n",
            "Requirement already satisfied: async-timeout>=4.0.2 in /home/dimitris/miniconda3/envs/pciSeq/lib/python3.8/site-packages (from redis->pciSeq==0.0.64.dev1) (4.0.3)\n",
            "Requirement already satisfied: imageio>=2.27 in /home/dimitris/miniconda3/envs/pciSeq/lib/python3.8/site-packages (from scikit-image->pciSeq==0.0.64.dev1) (2.31.1)\n",
            "Requirement already satisfied: tifffile>=2022.8.12 in /home/dimitris/miniconda3/envs/pciSeq/lib/python3.8/site-packages (from scikit-image->pciSeq==0.0.64.dev1) (2023.7.10)\n",
            "Requirement already satisfied: PyWavelets>=1.1.1 in /home/dimitris/miniconda3/envs/pciSeq/lib/python3.8/site-packages (from scikit-image->pciSeq==0.0.64.dev1) (1.4.1)\n",
            "Requirement already satisfied: lazy_loader>=0.2 in /home/dimitris/miniconda3/envs/pciSeq/lib/python3.8/site-packages (from scikit-image->pciSeq==0.0.64.dev1) (0.3)\n",
            "Requirement already satisfied: joblib>=1.1.1 in /home/dimitris/miniconda3/envs/pciSeq/lib/python3.8/site-packages (from scikit-learn->pciSeq==0.0.64.dev1) (1.3.2)\n",
            "Requirement already satisfied: threadpoolctl>=2.0.0 in /home/dimitris/miniconda3/envs/pciSeq/lib/python3.8/site-packages (from scikit-learn->pciSeq==0.0.64.dev1) (3.2.0)\n",
            "Requirement already satisfied: cachetools<6,>=4.0 in /home/dimitris/miniconda3/envs/pciSeq/lib/python3.8/site-packages (from streamlit->pciSeq==0.0.64.dev1) (5.3.1)\n",
            "Requirement already satisfied: protobuf<5,>=3.20 in /home/dimitris/miniconda3/envs/pciSeq/lib/python3.8/site-packages (from streamlit->pciSeq==0.0.64.dev1) (4.23.3)\n",
            "Requirement already satisfied: pyarrow>=4.0 in /home/dimitris/miniconda3/envs/pciSeq/lib/python3.8/site-packages (from streamlit->pciSeq==0.0.64.dev1) (13.0.0)\n",
            "Requirement already satisfied: pympler<2,>=0.9 in /home/dimitris/miniconda3/envs/pciSeq/lib/python3.8/site-packages (from streamlit->pciSeq==0.0.64.dev1) (1.0.1)\n",
            "Requirement already satisfied: requests<3,>=2.4 in /home/dimitris/miniconda3/envs/pciSeq/lib/python3.8/site-packages (from streamlit->pciSeq==0.0.64.dev1) (2.31.0)\n",
            "Requirement already satisfied: rich<14,>=10.11.0 in /home/dimitris/miniconda3/envs/pciSeq/lib/python3.8/site-packages (from streamlit->pciSeq==0.0.64.dev1) (13.5.1)\n",
            "Requirement already satisfied: tenacity<9,>=8.0.0 in /home/dimitris/miniconda3/envs/pciSeq/lib/python3.8/site-packages (from streamlit->pciSeq==0.0.64.dev1) (8.2.3)\n",
            "Requirement already satisfied: toml<2 in /home/dimitris/miniconda3/envs/pciSeq/lib/python3.8/site-packages (from streamlit->pciSeq==0.0.64.dev1) (0.10.2)\n",
            "Requirement already satisfied: tzlocal<5,>=1.1 in /home/dimitris/miniconda3/envs/pciSeq/lib/python3.8/site-packages (from streamlit->pciSeq==0.0.64.dev1) (4.3)\n",
            "Requirement already satisfied: validators<1,>=0.2 in /home/dimitris/miniconda3/envs/pciSeq/lib/python3.8/site-packages (from streamlit->pciSeq==0.0.64.dev1) (0.21.2)\n",
            "Requirement already satisfied: gitpython!=3.1.19,<4,>=3 in /home/dimitris/miniconda3/envs/pciSeq/lib/python3.8/site-packages (from streamlit->pciSeq==0.0.64.dev1) (3.1.32)\n",
            "Requirement already satisfied: pydeck<1,>=0.1.dev5 in /home/dimitris/miniconda3/envs/pciSeq/lib/python3.8/site-packages (from streamlit->pciSeq==0.0.64.dev1) (0.8.0b4)\n",
            "Requirement already satisfied: tornado<7,>=6.0.3 in /home/dimitris/miniconda3/envs/pciSeq/lib/python3.8/site-packages (from streamlit->pciSeq==0.0.64.dev1) (6.3.3)\n",
            "Requirement already satisfied: watchdog in /home/dimitris/miniconda3/envs/pciSeq/lib/python3.8/site-packages (from streamlit->pciSeq==0.0.64.dev1) (3.0.0)\n",
            "Requirement already satisfied: pycparser in /home/dimitris/miniconda3/envs/pciSeq/lib/python3.8/site-packages (from cffi>=1.0.0->pyvips->pciSeq==0.0.64.dev1) (2.21)\n",
            "Requirement already satisfied: gitdb<5,>=4.0.1 in /home/dimitris/miniconda3/envs/pciSeq/lib/python3.8/site-packages (from gitpython!=3.1.19,<4,>=3->streamlit->pciSeq==0.0.64.dev1) (4.0.10)\n",
            "Requirement already satisfied: zipp>=0.5 in /home/dimitris/miniconda3/envs/pciSeq/lib/python3.8/site-packages (from importlib-metadata>=4.13.0->dask->pciSeq==0.0.64.dev1) (3.16.2)\n",
            "Requirement already satisfied: MarkupSafe>=2.0 in /home/dimitris/miniconda3/envs/pciSeq/lib/python3.8/site-packages (from jinja2->altair->pciSeq==0.0.64.dev1) (2.1.3)\n",
            "Requirement already satisfied: attrs>=22.2.0 in /home/dimitris/miniconda3/envs/pciSeq/lib/python3.8/site-packages (from jsonschema>=3.0->altair->pciSeq==0.0.64.dev1) (23.1.0)\n",
            "Requirement already satisfied: jsonschema-specifications>=2023.03.6 in /home/dimitris/miniconda3/envs/pciSeq/lib/python3.8/site-packages (from jsonschema>=3.0->altair->pciSeq==0.0.64.dev1) (2023.7.1)\n",
            "Requirement already satisfied: pkgutil-resolve-name>=1.3.10 in /home/dimitris/miniconda3/envs/pciSeq/lib/python3.8/site-packages (from jsonschema>=3.0->altair->pciSeq==0.0.64.dev1) (1.3.10)\n",
            "Requirement already satisfied: referencing>=0.28.4 in /home/dimitris/miniconda3/envs/pciSeq/lib/python3.8/site-packages (from jsonschema>=3.0->altair->pciSeq==0.0.64.dev1) (0.30.2)\n",
            "Requirement already satisfied: rpds-py>=0.7.1 in /home/dimitris/miniconda3/envs/pciSeq/lib/python3.8/site-packages (from jsonschema>=3.0->altair->pciSeq==0.0.64.dev1) (0.10.0)\n",
            "Requirement already satisfied: locket in /home/dimitris/miniconda3/envs/pciSeq/lib/python3.8/site-packages (from partd>=1.2.0->dask->pciSeq==0.0.64.dev1) (1.0.0)\n",
            "Requirement already satisfied: six>=1.5 in /home/dimitris/miniconda3/envs/pciSeq/lib/python3.8/site-packages (from python-dateutil>=2.8.2->pandas->pciSeq==0.0.64.dev1) (1.16.0)\n",
            "Requirement already satisfied: charset-normalizer<4,>=2 in /home/dimitris/miniconda3/envs/pciSeq/lib/python3.8/site-packages (from requests<3,>=2.4->streamlit->pciSeq==0.0.64.dev1) (3.2.0)\n",
            "Requirement already satisfied: idna<4,>=2.5 in /home/dimitris/miniconda3/envs/pciSeq/lib/python3.8/site-packages (from requests<3,>=2.4->streamlit->pciSeq==0.0.64.dev1) (3.4)\n",
            "Requirement already satisfied: urllib3<3,>=1.21.1 in /home/dimitris/miniconda3/envs/pciSeq/lib/python3.8/site-packages (from requests<3,>=2.4->streamlit->pciSeq==0.0.64.dev1) (2.0.4)\n",
            "Requirement already satisfied: certifi>=2017.4.17 in /home/dimitris/miniconda3/envs/pciSeq/lib/python3.8/site-packages (from requests<3,>=2.4->streamlit->pciSeq==0.0.64.dev1) (2024.8.30)\n",
            "Requirement already satisfied: markdown-it-py>=2.2.0 in /home/dimitris/miniconda3/envs/pciSeq/lib/python3.8/site-packages (from rich<14,>=10.11.0->streamlit->pciSeq==0.0.64.dev1) (3.0.0)\n",
            "Requirement already satisfied: pygments<3.0.0,>=2.13.0 in /home/dimitris/miniconda3/envs/pciSeq/lib/python3.8/site-packages (from rich<14,>=10.11.0->streamlit->pciSeq==0.0.64.dev1) (2.16.1)\n",
            "Requirement already satisfied: pytz-deprecation-shim in /home/dimitris/miniconda3/envs/pciSeq/lib/python3.8/site-packages (from tzlocal<5,>=1.1->streamlit->pciSeq==0.0.64.dev1) (0.1.0.post0)\n",
            "Requirement already satisfied: backports.zoneinfo in /home/dimitris/miniconda3/envs/pciSeq/lib/python3.8/site-packages (from tzlocal<5,>=1.1->streamlit->pciSeq==0.0.64.dev1) (0.2.1)\n",
            "Requirement already satisfied: smmap<6,>=3.0.1 in /home/dimitris/miniconda3/envs/pciSeq/lib/python3.8/site-packages (from gitdb<5,>=4.0.1->gitpython!=3.1.19,<4,>=3->streamlit->pciSeq==0.0.64.dev1) (3.0.5)\n",
            "Requirement already satisfied: mdurl~=0.1 in /home/dimitris/miniconda3/envs/pciSeq/lib/python3.8/site-packages (from markdown-it-py>=2.2.0->rich<14,>=10.11.0->streamlit->pciSeq==0.0.64.dev1) (0.1.0)\n"
          ]
        }
      ],
      "source": [
        "!pip install git+https://github.com/acycliq/pciSeq.git@dev_3d\n",
        "import pciSeq"
      ]
    },
    {
      "cell_type": "code",
      "execution_count": null,
      "id": "sJxUxFFZ4H7q",
      "metadata": {
        "id": "sJxUxFFZ4H7q"
      },
      "outputs": [],
      "source": [
        "file_id = \"1wY1PUvAwk_S9MhKbCyB0HzH9oxNloP0M\"\n",
        "url = f\"https://drive.google.com/uc?export=download&id={file_id}\"\n",
        "output = \"pciSeq.pickle\""
      ]
    },
    {
      "cell_type": "code",
      "execution_count": null,
      "id": "nKkNpv4f4P7w",
      "metadata": {
        "colab": {
          "base_uri": "https://localhost:8080/",
          "height": 122
        },
        "id": "nKkNpv4f4P7w",
        "outputId": "53326541-3126-4a10-842b-50ea741a06b1"
      },
      "outputs": [
        {
          "name": "stderr",
          "output_type": "stream",
          "text": [
            "Downloading...\n",
            "From (original): https://drive.google.com/uc?export=download&id=1wY1PUvAwk_S9MhKbCyB0HzH9oxNloP0M\n",
            "From (redirected): https://drive.google.com/uc?export=download&id=1wY1PUvAwk_S9MhKbCyB0HzH9oxNloP0M&confirm=t&uuid=f7538c4b-16da-4200-a092-e640b8cb875f\n",
            "To: /tmp/pciSeq/data/pciSeq.pickle\n",
            "100%|██████████████████████████████████████| 1.79G/1.79G [03:21<00:00, 8.89MB/s]\n"
          ]
        },
        {
          "data": {
            "text/plain": [
              "'pciSeq.pickle'"
            ]
          },
          "execution_count": 5,
          "metadata": {},
          "output_type": "execute_result"
        }
      ],
      "source": [
        "gdown.download(url, output, quiet=False)"
      ]
    },
    {
      "cell_type": "code",
      "execution_count": null,
      "id": "34a34e84-601b-4ab5-8e60-6c3ecb0f69d5",
      "metadata": {
        "id": "34a34e84-601b-4ab5-8e60-6c3ecb0f69d5"
      },
      "outputs": [],
      "source": [
        "obj = pd.read_pickle(output)"
      ]
    },
    {
      "cell_type": "code",
      "execution_count": null,
      "id": "1fff6b4e-dac9-415e-870c-2f7e46f9a23f",
      "metadata": {
        "id": "1fff6b4e-dac9-415e-870c-2f7e46f9a23f"
      },
      "outputs": [],
      "source": [
        "my_cell = 13043"
      ]
    },
    {
      "cell_type": "code",
      "execution_count": null,
      "id": "734fea20-202e-4f7f-816b-3d204af77288",
      "metadata": {
        "id": "734fea20-202e-4f7f-816b-3d204af77288"
      },
      "outputs": [],
      "source": [
        "# Set the hyperparameters\n",
        "rSpot = 2.0               # Spread of the negative binomial\n",
        "SpotReg = 0.1             # Spot regularization: Additive factor applied to the single cell data\n",
        "inefficiency = 0.2        # multiplicative factor applied to the single cell data"
      ]
    },
    {
      "cell_type": "code",
      "execution_count": null,
      "id": "0e6fa76d-9329-4e15-b13d-1b476e35339e",
      "metadata": {
        "colab": {
          "base_uri": "https://localhost:8080/",
          "height": 455
        },
        "id": "0e6fa76d-9329-4e15-b13d-1b476e35339e",
        "outputId": "6ac99b2e-4e4f-4fe5-c698-13a63bdb3152"
      },
      "outputs": [
        {
          "data": {
            "text/html": [
              "<div>\n",
              "<style scoped>\n",
              "    .dataframe tbody tr th:only-of-type {\n",
              "        vertical-align: middle;\n",
              "    }\n",
              "\n",
              "    .dataframe tbody tr th {\n",
              "        vertical-align: top;\n",
              "    }\n",
              "\n",
              "    .dataframe thead th {\n",
              "        text-align: right;\n",
              "    }\n",
              "</style>\n",
              "<table border=\"1\" class=\"dataframe\">\n",
              "  <thead>\n",
              "    <tr style=\"text-align: right;\">\n",
              "      <th>class_name</th>\n",
              "      <th>TEGLU6</th>\n",
              "      <th>TEGLU24</th>\n",
              "      <th>TEGLU1</th>\n",
              "      <th>TEGLU7</th>\n",
              "      <th>TEGLU13</th>\n",
              "      <th>TEGLU8</th>\n",
              "      <th>TEGLU3</th>\n",
              "      <th>TEGLU23</th>\n",
              "      <th>Zero</th>\n",
              "    </tr>\n",
              "    <tr>\n",
              "      <th>gene_name</th>\n",
              "      <th></th>\n",
              "      <th></th>\n",
              "      <th></th>\n",
              "      <th></th>\n",
              "      <th></th>\n",
              "      <th></th>\n",
              "      <th></th>\n",
              "      <th></th>\n",
              "      <th></th>\n",
              "    </tr>\n",
              "  </thead>\n",
              "  <tbody>\n",
              "    <tr>\n",
              "      <th>Abi3bp</th>\n",
              "      <td>0.090301</td>\n",
              "      <td>0.006382</td>\n",
              "      <td>0.300995</td>\n",
              "      <td>0.120739</td>\n",
              "      <td>0.007874</td>\n",
              "      <td>0.035819</td>\n",
              "      <td>0.100585</td>\n",
              "      <td>0.000000</td>\n",
              "      <td>0.0</td>\n",
              "    </tr>\n",
              "    <tr>\n",
              "      <th>Acly</th>\n",
              "      <td>0.096990</td>\n",
              "      <td>0.133039</td>\n",
              "      <td>0.154229</td>\n",
              "      <td>0.209856</td>\n",
              "      <td>0.236220</td>\n",
              "      <td>0.199284</td>\n",
              "      <td>0.194221</td>\n",
              "      <td>0.247934</td>\n",
              "      <td>0.0</td>\n",
              "    </tr>\n",
              "    <tr>\n",
              "      <th>Adcyap1</th>\n",
              "      <td>0.053512</td>\n",
              "      <td>0.004418</td>\n",
              "      <td>0.009950</td>\n",
              "      <td>0.120739</td>\n",
              "      <td>0.023622</td>\n",
              "      <td>0.189840</td>\n",
              "      <td>0.011339</td>\n",
              "      <td>0.138430</td>\n",
              "      <td>0.0</td>\n",
              "    </tr>\n",
              "    <tr>\n",
              "      <th>Adora2a</th>\n",
              "      <td>0.000000</td>\n",
              "      <td>0.001473</td>\n",
              "      <td>0.000000</td>\n",
              "      <td>0.000821</td>\n",
              "      <td>0.000000</td>\n",
              "      <td>0.001303</td>\n",
              "      <td>0.004755</td>\n",
              "      <td>0.002066</td>\n",
              "      <td>0.0</td>\n",
              "    </tr>\n",
              "    <tr>\n",
              "      <th>Afp</th>\n",
              "      <td>0.006689</td>\n",
              "      <td>0.000000</td>\n",
              "      <td>0.000000</td>\n",
              "      <td>0.009446</td>\n",
              "      <td>0.000000</td>\n",
              "      <td>0.000977</td>\n",
              "      <td>0.044623</td>\n",
              "      <td>0.000000</td>\n",
              "      <td>0.0</td>\n",
              "    </tr>\n",
              "    <tr>\n",
              "      <th>...</th>\n",
              "      <td>...</td>\n",
              "      <td>...</td>\n",
              "      <td>...</td>\n",
              "      <td>...</td>\n",
              "      <td>...</td>\n",
              "      <td>...</td>\n",
              "      <td>...</td>\n",
              "      <td>...</td>\n",
              "      <td>...</td>\n",
              "    </tr>\n",
              "    <tr>\n",
              "      <th>Vtn</th>\n",
              "      <td>0.001672</td>\n",
              "      <td>0.006382</td>\n",
              "      <td>0.009950</td>\n",
              "      <td>0.030801</td>\n",
              "      <td>0.000000</td>\n",
              "      <td>0.013676</td>\n",
              "      <td>0.018288</td>\n",
              "      <td>0.004132</td>\n",
              "      <td>0.0</td>\n",
              "    </tr>\n",
              "    <tr>\n",
              "      <th>Wfs1</th>\n",
              "      <td>0.053512</td>\n",
              "      <td>1.669121</td>\n",
              "      <td>0.054726</td>\n",
              "      <td>0.725667</td>\n",
              "      <td>9.984252</td>\n",
              "      <td>0.085314</td>\n",
              "      <td>0.048281</td>\n",
              "      <td>0.179752</td>\n",
              "      <td>0.0</td>\n",
              "    </tr>\n",
              "    <tr>\n",
              "      <th>Yjefn3</th>\n",
              "      <td>0.060201</td>\n",
              "      <td>0.110457</td>\n",
              "      <td>0.069652</td>\n",
              "      <td>0.141684</td>\n",
              "      <td>0.062992</td>\n",
              "      <td>0.091176</td>\n",
              "      <td>0.087052</td>\n",
              "      <td>0.101240</td>\n",
              "      <td>0.0</td>\n",
              "    </tr>\n",
              "    <tr>\n",
              "      <th>Zcchc12</th>\n",
              "      <td>0.016722</td>\n",
              "      <td>0.049583</td>\n",
              "      <td>0.218905</td>\n",
              "      <td>0.068172</td>\n",
              "      <td>0.031496</td>\n",
              "      <td>0.009443</td>\n",
              "      <td>0.018288</td>\n",
              "      <td>0.200413</td>\n",
              "      <td>0.0</td>\n",
              "    </tr>\n",
              "    <tr>\n",
              "      <th>Zic1</th>\n",
              "      <td>0.000000</td>\n",
              "      <td>0.000982</td>\n",
              "      <td>0.007463</td>\n",
              "      <td>0.000821</td>\n",
              "      <td>0.007874</td>\n",
              "      <td>0.001954</td>\n",
              "      <td>0.001463</td>\n",
              "      <td>0.000000</td>\n",
              "      <td>0.0</td>\n",
              "    </tr>\n",
              "  </tbody>\n",
              "</table>\n",
              "<p>314 rows × 9 columns</p>\n",
              "</div>"
            ],
            "text/plain": [
              "class_name    TEGLU6   TEGLU24    TEGLU1    TEGLU7   TEGLU13    TEGLU8  \\\n",
              "gene_name                                                                \n",
              "Abi3bp      0.090301  0.006382  0.300995  0.120739  0.007874  0.035819   \n",
              "Acly        0.096990  0.133039  0.154229  0.209856  0.236220  0.199284   \n",
              "Adcyap1     0.053512  0.004418  0.009950  0.120739  0.023622  0.189840   \n",
              "Adora2a     0.000000  0.001473  0.000000  0.000821  0.000000  0.001303   \n",
              "Afp         0.006689  0.000000  0.000000  0.009446  0.000000  0.000977   \n",
              "...              ...       ...       ...       ...       ...       ...   \n",
              "Vtn         0.001672  0.006382  0.009950  0.030801  0.000000  0.013676   \n",
              "Wfs1        0.053512  1.669121  0.054726  0.725667  9.984252  0.085314   \n",
              "Yjefn3      0.060201  0.110457  0.069652  0.141684  0.062992  0.091176   \n",
              "Zcchc12     0.016722  0.049583  0.218905  0.068172  0.031496  0.009443   \n",
              "Zic1        0.000000  0.000982  0.007463  0.000821  0.007874  0.001954   \n",
              "\n",
              "class_name    TEGLU3   TEGLU23  Zero  \n",
              "gene_name                             \n",
              "Abi3bp      0.100585  0.000000   0.0  \n",
              "Acly        0.194221  0.247934   0.0  \n",
              "Adcyap1     0.011339  0.138430   0.0  \n",
              "Adora2a     0.004755  0.002066   0.0  \n",
              "Afp         0.044623  0.000000   0.0  \n",
              "...              ...       ...   ...  \n",
              "Vtn         0.018288  0.004132   0.0  \n",
              "Wfs1        0.048281  0.179752   0.0  \n",
              "Yjefn3      0.087052  0.101240   0.0  \n",
              "Zcchc12     0.018288  0.200413   0.0  \n",
              "Zic1        0.001463  0.000000   0.0  \n",
              "\n",
              "[314 rows x 9 columns]"
            ]
          },
          "execution_count": 9,
          "metadata": {},
          "output_type": "execute_result"
        }
      ],
      "source": [
        "# Another piece of information comes from the single cell data. For simplicity\n",
        "# we are pulling here only the most probable classes\n",
        "my_class_definitions = obj.single_cell.mean_expression[\n",
        "['TEGLU6', 'TEGLU24', 'TEGLU1', 'TEGLU7', 'TEGLU13', 'TEGLU8', 'TEGLU3', 'TEGLU23', 'Zero']\n",
        "]\n",
        "my_class_definitions"
      ]
    },
    {
      "cell_type": "code",
      "execution_count": null,
      "id": "1dcbaa2c-45d8-4c31-bedd-949e3a125b08",
      "metadata": {
        "id": "1dcbaa2c-45d8-4c31-bedd-949e3a125b08"
      },
      "outputs": [],
      "source": []
    },
    {
      "cell_type": "markdown",
      "id": "803d323e-1cf8-462a-a88f-debf60e8ad52",
      "metadata": {
        "id": "803d323e-1cf8-462a-a88f-debf60e8ad52"
      },
      "source": [
        "### Part 1. Initialization"
      ]
    },
    {
      "cell_type": "code",
      "execution_count": null,
      "id": "1bf84cf4-6854-4f80-bec1-bd03e7922ef1",
      "metadata": {
        "colab": {
          "base_uri": "https://localhost:8080/",
          "height": 394
        },
        "id": "1bf84cf4-6854-4f80-bec1-bd03e7922ef1",
        "outputId": "1de7e33d-738b-4c2e-ae38-c01f1e377d50"
      },
      "outputs": [
        {
          "data": {
            "text/html": [
              "<div>\n",
              "<style scoped>\n",
              "    .dataframe tbody tr th:only-of-type {\n",
              "        vertical-align: middle;\n",
              "    }\n",
              "\n",
              "    .dataframe tbody tr th {\n",
              "        vertical-align: top;\n",
              "    }\n",
              "\n",
              "    .dataframe thead th {\n",
              "        text-align: right;\n",
              "    }\n",
              "</style>\n",
              "<table border=\"1\" class=\"dataframe\">\n",
              "  <thead>\n",
              "    <tr style=\"text-align: right;\">\n",
              "      <th></th>\n",
              "      <th>x</th>\n",
              "      <th>y</th>\n",
              "      <th>z</th>\n",
              "      <th>plane_id</th>\n",
              "      <th>label</th>\n",
              "      <th>gene_name</th>\n",
              "      <th>score</th>\n",
              "    </tr>\n",
              "    <tr>\n",
              "      <th>spot_id</th>\n",
              "      <th></th>\n",
              "      <th></th>\n",
              "      <th></th>\n",
              "      <th></th>\n",
              "      <th></th>\n",
              "      <th></th>\n",
              "      <th></th>\n",
              "    </tr>\n",
              "  </thead>\n",
              "  <tbody>\n",
              "    <tr>\n",
              "      <th>397306</th>\n",
              "      <td>5470.904785</td>\n",
              "      <td>1138.924072</td>\n",
              "      <td>155.042770</td>\n",
              "      <td>48</td>\n",
              "      <td>13043</td>\n",
              "      <td>Apoe</td>\n",
              "      <td>0.9395</td>\n",
              "    </tr>\n",
              "    <tr>\n",
              "      <th>415184</th>\n",
              "      <td>5465.904785</td>\n",
              "      <td>1153.924072</td>\n",
              "      <td>151.828491</td>\n",
              "      <td>47</td>\n",
              "      <td>13043</td>\n",
              "      <td>Cd81</td>\n",
              "      <td>0.8000</td>\n",
              "    </tr>\n",
              "    <tr>\n",
              "      <th>415190</th>\n",
              "      <td>5469.904785</td>\n",
              "      <td>1157.924072</td>\n",
              "      <td>135.757065</td>\n",
              "      <td>42</td>\n",
              "      <td>13043</td>\n",
              "      <td>Cd81</td>\n",
              "      <td>0.7520</td>\n",
              "    </tr>\n",
              "    <tr>\n",
              "      <th>416241</th>\n",
              "      <td>5480.904785</td>\n",
              "      <td>1157.924072</td>\n",
              "      <td>174.328491</td>\n",
              "      <td>54</td>\n",
              "      <td>13043</td>\n",
              "      <td>Cdh13</td>\n",
              "      <td>0.7770</td>\n",
              "    </tr>\n",
              "    <tr>\n",
              "      <th>447922</th>\n",
              "      <td>5470.904785</td>\n",
              "      <td>1155.924072</td>\n",
              "      <td>145.399918</td>\n",
              "      <td>45</td>\n",
              "      <td>13043</td>\n",
              "      <td>Enc1</td>\n",
              "      <td>0.6360</td>\n",
              "    </tr>\n",
              "    <tr>\n",
              "      <th>447923</th>\n",
              "      <td>5470.904785</td>\n",
              "      <td>1155.924072</td>\n",
              "      <td>180.757065</td>\n",
              "      <td>56</td>\n",
              "      <td>13043</td>\n",
              "      <td>Enc1</td>\n",
              "      <td>0.6400</td>\n",
              "    </tr>\n",
              "    <tr>\n",
              "      <th>460814</th>\n",
              "      <td>5463.904785</td>\n",
              "      <td>1151.924072</td>\n",
              "      <td>180.757065</td>\n",
              "      <td>56</td>\n",
              "      <td>13043</td>\n",
              "      <td>Gabrg1</td>\n",
              "      <td>0.6440</td>\n",
              "    </tr>\n",
              "    <tr>\n",
              "      <th>465147</th>\n",
              "      <td>5474.904785</td>\n",
              "      <td>1157.924072</td>\n",
              "      <td>164.685623</td>\n",
              "      <td>51</td>\n",
              "      <td>13043</td>\n",
              "      <td>Gja1</td>\n",
              "      <td>0.4036</td>\n",
              "    </tr>\n",
              "    <tr>\n",
              "      <th>477346</th>\n",
              "      <td>5468.904785</td>\n",
              "      <td>1154.924072</td>\n",
              "      <td>148.614197</td>\n",
              "      <td>46</td>\n",
              "      <td>13043</td>\n",
              "      <td>Kctd12</td>\n",
              "      <td>0.5720</td>\n",
              "    </tr>\n",
              "    <tr>\n",
              "      <th>481854</th>\n",
              "      <td>5474.904785</td>\n",
              "      <td>1161.924072</td>\n",
              "      <td>158.257065</td>\n",
              "      <td>49</td>\n",
              "      <td>13043</td>\n",
              "      <td>Meis2</td>\n",
              "      <td>0.7915</td>\n",
              "    </tr>\n",
              "    <tr>\n",
              "      <th>484869</th>\n",
              "      <td>5468.904785</td>\n",
              "      <td>1154.924072</td>\n",
              "      <td>174.328491</td>\n",
              "      <td>54</td>\n",
              "      <td>13043</td>\n",
              "      <td>Neurod6</td>\n",
              "      <td>0.6387</td>\n",
              "    </tr>\n",
              "    <tr>\n",
              "      <th>490698</th>\n",
              "      <td>5464.904785</td>\n",
              "      <td>1154.924072</td>\n",
              "      <td>158.257065</td>\n",
              "      <td>49</td>\n",
              "      <td>13043</td>\n",
              "      <td>Nptx1</td>\n",
              "      <td>0.4365</td>\n",
              "    </tr>\n",
              "    <tr>\n",
              "      <th>503444</th>\n",
              "      <td>5461.904785</td>\n",
              "      <td>1151.924072</td>\n",
              "      <td>171.114197</td>\n",
              "      <td>53</td>\n",
              "      <td>13043</td>\n",
              "      <td>Nrn1</td>\n",
              "      <td>0.8477</td>\n",
              "    </tr>\n",
              "    <tr>\n",
              "      <th>511563</th>\n",
              "      <td>5471.904785</td>\n",
              "      <td>1165.924072</td>\n",
              "      <td>164.685623</td>\n",
              "      <td>51</td>\n",
              "      <td>13043</td>\n",
              "      <td>Pde1a</td>\n",
              "      <td>0.4290</td>\n",
              "    </tr>\n",
              "    <tr>\n",
              "      <th>518846</th>\n",
              "      <td>5472.904785</td>\n",
              "      <td>1157.924072</td>\n",
              "      <td>145.399918</td>\n",
              "      <td>45</td>\n",
              "      <td>13043</td>\n",
              "      <td>Prkca</td>\n",
              "      <td>0.8438</td>\n",
              "    </tr>\n",
              "    <tr>\n",
              "      <th>518847</th>\n",
              "      <td>5476.904785</td>\n",
              "      <td>1157.924072</td>\n",
              "      <td>151.828491</td>\n",
              "      <td>47</td>\n",
              "      <td>13043</td>\n",
              "      <td>Prkca</td>\n",
              "      <td>0.9200</td>\n",
              "    </tr>\n",
              "    <tr>\n",
              "      <th>525806</th>\n",
              "      <td>5469.904785</td>\n",
              "      <td>1152.924072</td>\n",
              "      <td>183.971344</td>\n",
              "      <td>57</td>\n",
              "      <td>13043</td>\n",
              "      <td>Rgs4</td>\n",
              "      <td>0.3470</td>\n",
              "    </tr>\n",
              "    <tr>\n",
              "      <th>525813</th>\n",
              "      <td>5472.904785</td>\n",
              "      <td>1154.924072</td>\n",
              "      <td>174.328491</td>\n",
              "      <td>54</td>\n",
              "      <td>13043</td>\n",
              "      <td>Rgs4</td>\n",
              "      <td>0.4644</td>\n",
              "    </tr>\n",
              "    <tr>\n",
              "      <th>525842</th>\n",
              "      <td>5477.904785</td>\n",
              "      <td>1164.924072</td>\n",
              "      <td>174.328491</td>\n",
              "      <td>54</td>\n",
              "      <td>13043</td>\n",
              "      <td>Rgs4</td>\n",
              "      <td>0.8160</td>\n",
              "    </tr>\n",
              "    <tr>\n",
              "      <th>547797</th>\n",
              "      <td>5478.904785</td>\n",
              "      <td>1158.924072</td>\n",
              "      <td>180.757065</td>\n",
              "      <td>56</td>\n",
              "      <td>13043</td>\n",
              "      <td>Slc17a7</td>\n",
              "      <td>0.6763</td>\n",
              "    </tr>\n",
              "    <tr>\n",
              "      <th>563048</th>\n",
              "      <td>5481.904785</td>\n",
              "      <td>1159.924072</td>\n",
              "      <td>164.685623</td>\n",
              "      <td>51</td>\n",
              "      <td>13043</td>\n",
              "      <td>Stmn1</td>\n",
              "      <td>0.8150</td>\n",
              "    </tr>\n",
              "    <tr>\n",
              "      <th>565042</th>\n",
              "      <td>5468.904785</td>\n",
              "      <td>1151.924072</td>\n",
              "      <td>177.542770</td>\n",
              "      <td>55</td>\n",
              "      <td>13043</td>\n",
              "      <td>Sv2b</td>\n",
              "      <td>0.4949</td>\n",
              "    </tr>\n",
              "    <tr>\n",
              "      <th>569393</th>\n",
              "      <td>5466.904785</td>\n",
              "      <td>1152.924072</td>\n",
              "      <td>174.328491</td>\n",
              "      <td>54</td>\n",
              "      <td>13043</td>\n",
              "      <td>Tnfaip8l3</td>\n",
              "      <td>0.3628</td>\n",
              "    </tr>\n",
              "    <tr>\n",
              "      <th>569400</th>\n",
              "      <td>5476.904785</td>\n",
              "      <td>1154.924072</td>\n",
              "      <td>174.328491</td>\n",
              "      <td>54</td>\n",
              "      <td>13043</td>\n",
              "      <td>Tnfaip8l3</td>\n",
              "      <td>0.4790</td>\n",
              "    </tr>\n",
              "  </tbody>\n",
              "</table>\n",
              "</div>"
            ],
            "text/plain": [
              "                   x            y           z  plane_id  label  gene_name  \\\n",
              "spot_id                                                                     \n",
              "397306   5470.904785  1138.924072  155.042770        48  13043       Apoe   \n",
              "415184   5465.904785  1153.924072  151.828491        47  13043       Cd81   \n",
              "415190   5469.904785  1157.924072  135.757065        42  13043       Cd81   \n",
              "416241   5480.904785  1157.924072  174.328491        54  13043      Cdh13   \n",
              "447922   5470.904785  1155.924072  145.399918        45  13043       Enc1   \n",
              "447923   5470.904785  1155.924072  180.757065        56  13043       Enc1   \n",
              "460814   5463.904785  1151.924072  180.757065        56  13043     Gabrg1   \n",
              "465147   5474.904785  1157.924072  164.685623        51  13043       Gja1   \n",
              "477346   5468.904785  1154.924072  148.614197        46  13043     Kctd12   \n",
              "481854   5474.904785  1161.924072  158.257065        49  13043      Meis2   \n",
              "484869   5468.904785  1154.924072  174.328491        54  13043    Neurod6   \n",
              "490698   5464.904785  1154.924072  158.257065        49  13043      Nptx1   \n",
              "503444   5461.904785  1151.924072  171.114197        53  13043       Nrn1   \n",
              "511563   5471.904785  1165.924072  164.685623        51  13043      Pde1a   \n",
              "518846   5472.904785  1157.924072  145.399918        45  13043      Prkca   \n",
              "518847   5476.904785  1157.924072  151.828491        47  13043      Prkca   \n",
              "525806   5469.904785  1152.924072  183.971344        57  13043       Rgs4   \n",
              "525813   5472.904785  1154.924072  174.328491        54  13043       Rgs4   \n",
              "525842   5477.904785  1164.924072  174.328491        54  13043       Rgs4   \n",
              "547797   5478.904785  1158.924072  180.757065        56  13043    Slc17a7   \n",
              "563048   5481.904785  1159.924072  164.685623        51  13043      Stmn1   \n",
              "565042   5468.904785  1151.924072  177.542770        55  13043       Sv2b   \n",
              "569393   5466.904785  1152.924072  174.328491        54  13043  Tnfaip8l3   \n",
              "569400   5476.904785  1154.924072  174.328491        54  13043  Tnfaip8l3   \n",
              "\n",
              "          score  \n",
              "spot_id          \n",
              "397306   0.9395  \n",
              "415184   0.8000  \n",
              "415190   0.7520  \n",
              "416241   0.7770  \n",
              "447922   0.6360  \n",
              "447923   0.6400  \n",
              "460814   0.6440  \n",
              "465147   0.4036  \n",
              "477346   0.5720  \n",
              "481854   0.7915  \n",
              "484869   0.6387  \n",
              "490698   0.4365  \n",
              "503444   0.8477  \n",
              "511563   0.4290  \n",
              "518846   0.8438  \n",
              "518847   0.9200  \n",
              "525806   0.3470  \n",
              "525813   0.4644  \n",
              "525842   0.8160  \n",
              "547797   0.6763  \n",
              "563048   0.8150  \n",
              "565042   0.4949  \n",
              "569393   0.3628  \n",
              "569400   0.4790  "
            ]
          },
          "execution_count": 10,
          "metadata": {},
          "output_type": "execute_result"
        }
      ],
      "source": [
        "# To set the initial gene counts for any given cell we collect the gene reads inside the cell boundaries\n",
        "# For cell 10275 these gene reads are the spots below\n",
        "spots_13043 = obj.spots.data[obj.spots.data.label == my_cell]\n",
        "spots_13043"
      ]
    },
    {
      "cell_type": "code",
      "execution_count": null,
      "id": "4e726756-61a1-4eb4-b1a5-2e12fae37902",
      "metadata": {
        "colab": {
          "base_uri": "https://localhost:8080/",
          "height": 272
        },
        "id": "4e726756-61a1-4eb4-b1a5-2e12fae37902",
        "outputId": "3cb7e95b-0457-4197-83c0-e0fef5960805"
      },
      "outputs": [
        {
          "data": {
            "text/plain": [
              "gene_name\n",
              "Apoe         1\n",
              "Cd81         2\n",
              "Cdh13        1\n",
              "Enc1         2\n",
              "Gabrg1       1\n",
              "Gja1         1\n",
              "Kctd12       1\n",
              "Meis2        1\n",
              "Neurod6      1\n",
              "Nptx1        1\n",
              "Nrn1         1\n",
              "Pde1a        1\n",
              "Prkca        2\n",
              "Rgs4         3\n",
              "Slc17a7      1\n",
              "Stmn1        1\n",
              "Sv2b         1\n",
              "Tnfaip8l3    2\n",
              "dtype: int64"
            ]
          },
          "execution_count": 11,
          "metadata": {},
          "output_type": "execute_result"
        }
      ],
      "source": [
        "# Hence we aggregate per gene and we derive the gene counts\n",
        "cgc = spots_13043.groupby('gene_name').size()\n",
        "cgc"
      ]
    },
    {
      "cell_type": "code",
      "execution_count": null,
      "id": "697c1eab-b15c-4f15-b27f-1cf9fd649728",
      "metadata": {
        "id": "697c1eab-b15c-4f15-b27f-1cf9fd649728"
      },
      "outputs": [],
      "source": [
        "# The cell gene counts introduced above contain only genes with gene reads > 0.\n",
        "# We need however the full gene panel\n",
        "cgc = cgc.reindex(obj.genes.gene_panel, fill_value=0)"
      ]
    },
    {
      "cell_type": "code",
      "execution_count": null,
      "id": "2e0f78c4-0989-49e8-b06e-916e9e38a091",
      "metadata": {
        "id": "2e0f78c4-0989-49e8-b06e-916e9e38a091"
      },
      "outputs": [],
      "source": [
        "# Note also that the eta (the random variable to model the gene inefficiency) is initialied as a vector of ones with lenght\n",
        "# equal to the number of genes:\n",
        "eta_bar = np.ones(obj.nG)"
      ]
    },
    {
      "cell_type": "markdown",
      "id": "187bd107-a698-43db-9b83-6ea2e75aadf5",
      "metadata": {
        "id": "187bd107-a698-43db-9b83-6ea2e75aadf5"
      },
      "source": [
        "### Part 2. Cell to cell type"
      ]
    },
    {
      "cell_type": "code",
      "execution_count": null,
      "id": "0b5f8f2a-83a3-40c1-b365-b25658cf8f18",
      "metadata": {
        "id": "0b5f8f2a-83a3-40c1-b365-b25658cf8f18"
      },
      "outputs": [],
      "source": [
        "def negative_binomial_loglikelihood(x: np.ndarray, r: float, p: np.ndarray) -> np.ndarray:\n",
        "    log_likelihood = x * np.log(p) + r * np.log(1 - p)\n",
        "\n",
        "    return log_likelihood"
      ]
    },
    {
      "cell_type": "code",
      "execution_count": null,
      "id": "d79d654f-4588-4f6d-a8bf-35da6fd1d1bd",
      "metadata": {
        "id": "d79d654f-4588-4f6d-a8bf-35da6fd1d1bd"
      },
      "outputs": [],
      "source": [
        "# prepare now the data from the negative binomial\n",
        "ScaledExp = my_class_definitions * inefficiency * eta_bar[:, None]\n",
        "ScaledExp = ScaledExp + SpotReg\n",
        "p = ScaledExp / (ScaledExp + rSpot)"
      ]
    },
    {
      "cell_type": "code",
      "execution_count": null,
      "id": "0fd3e92e-ebd5-48ac-8b6f-85cd5932205b",
      "metadata": {
        "colab": {
          "base_uri": "https://localhost:8080/"
        },
        "id": "0fd3e92e-ebd5-48ac-8b6f-85cd5932205b",
        "outputId": "84039609-57cc-419a-d86a-4f450d34c995"
      },
      "outputs": [
        {
          "data": {
            "text/plain": [
              "array([ -99.76447097, -100.07098555, -100.33062231, -101.07074775,\n",
              "       -101.72491405, -101.96161518, -102.40335807, -102.45849084,\n",
              "       -103.7087616 ])"
            ]
          },
          "execution_count": 16,
          "metadata": {},
          "output_type": "execute_result"
        }
      ],
      "source": [
        "# evaluate the loglikelihood\n",
        "teglu_contr = negative_binomial_loglikelihood(cgc.values[:, None], rSpot, p.values)\n",
        "teglu_contr.sum(axis=0)"
      ]
    },
    {
      "cell_type": "code",
      "execution_count": null,
      "id": "efbe8b1b-036d-42a5-b286-5a7296863531",
      "metadata": {
        "colab": {
          "base_uri": "https://localhost:8080/",
          "height": 424
        },
        "id": "efbe8b1b-036d-42a5-b286-5a7296863531",
        "outputId": "83c7b682-6225-41c2-ea1c-a5e6ab88ea51"
      },
      "outputs": [
        {
          "data": {
            "text/html": [
              "<div>\n",
              "<style scoped>\n",
              "    .dataframe tbody tr th:only-of-type {\n",
              "        vertical-align: middle;\n",
              "    }\n",
              "\n",
              "    .dataframe tbody tr th {\n",
              "        vertical-align: top;\n",
              "    }\n",
              "\n",
              "    .dataframe thead th {\n",
              "        text-align: right;\n",
              "    }\n",
              "</style>\n",
              "<table border=\"1\" class=\"dataframe\">\n",
              "  <thead>\n",
              "    <tr style=\"text-align: right;\">\n",
              "      <th></th>\n",
              "      <th>TEGLU6</th>\n",
              "      <th>TEGLU24</th>\n",
              "      <th>TEGLU1</th>\n",
              "      <th>TEGLU7</th>\n",
              "      <th>TEGLU13</th>\n",
              "      <th>TEGLU8</th>\n",
              "      <th>TEGLU3</th>\n",
              "      <th>TEGLU23</th>\n",
              "      <th>Zero</th>\n",
              "    </tr>\n",
              "  </thead>\n",
              "  <tbody>\n",
              "    <tr>\n",
              "      <th>Abi3bp</th>\n",
              "      <td>-0.114707</td>\n",
              "      <td>-0.098796</td>\n",
              "      <td>-0.154106</td>\n",
              "      <td>-0.120447</td>\n",
              "      <td>-0.099080</td>\n",
              "      <td>-0.104391</td>\n",
              "      <td>-0.116648</td>\n",
              "      <td>-0.097580</td>\n",
              "      <td>-0.09758</td>\n",
              "    </tr>\n",
              "    <tr>\n",
              "      <th>Acly</th>\n",
              "      <td>-0.115970</td>\n",
              "      <td>-0.122762</td>\n",
              "      <td>-0.126744</td>\n",
              "      <td>-0.137159</td>\n",
              "      <td>-0.142076</td>\n",
              "      <td>-0.135183</td>\n",
              "      <td>-0.134237</td>\n",
              "      <td>-0.144257</td>\n",
              "      <td>-0.09758</td>\n",
              "    </tr>\n",
              "    <tr>\n",
              "      <th>Adcyap1</th>\n",
              "      <td>-0.107747</td>\n",
              "      <td>-0.098422</td>\n",
              "      <td>-0.099475</td>\n",
              "      <td>-0.120447</td>\n",
              "      <td>-0.102075</td>\n",
              "      <td>-0.133417</td>\n",
              "      <td>-0.099739</td>\n",
              "      <td>-0.123776</td>\n",
              "      <td>-0.09758</td>\n",
              "    </tr>\n",
              "    <tr>\n",
              "      <th>Adora2a</th>\n",
              "      <td>-0.097580</td>\n",
              "      <td>-0.097861</td>\n",
              "      <td>-0.097580</td>\n",
              "      <td>-0.097737</td>\n",
              "      <td>-0.097580</td>\n",
              "      <td>-0.097828</td>\n",
              "      <td>-0.098486</td>\n",
              "      <td>-0.097974</td>\n",
              "      <td>-0.09758</td>\n",
              "    </tr>\n",
              "    <tr>\n",
              "      <th>Afp</th>\n",
              "      <td>-0.098854</td>\n",
              "      <td>-0.097580</td>\n",
              "      <td>-0.097580</td>\n",
              "      <td>-0.099379</td>\n",
              "      <td>-0.097580</td>\n",
              "      <td>-0.097766</td>\n",
              "      <td>-0.106062</td>\n",
              "      <td>-0.097580</td>\n",
              "      <td>-0.09758</td>\n",
              "    </tr>\n",
              "    <tr>\n",
              "      <th>...</th>\n",
              "      <td>...</td>\n",
              "      <td>...</td>\n",
              "      <td>...</td>\n",
              "      <td>...</td>\n",
              "      <td>...</td>\n",
              "      <td>...</td>\n",
              "      <td>...</td>\n",
              "      <td>...</td>\n",
              "      <td>...</td>\n",
              "    </tr>\n",
              "    <tr>\n",
              "      <th>Vtn</th>\n",
              "      <td>-0.097899</td>\n",
              "      <td>-0.098796</td>\n",
              "      <td>-0.099475</td>\n",
              "      <td>-0.103439</td>\n",
              "      <td>-0.097580</td>\n",
              "      <td>-0.100184</td>\n",
              "      <td>-0.101061</td>\n",
              "      <td>-0.098367</td>\n",
              "      <td>-0.09758</td>\n",
              "    </tr>\n",
              "    <tr>\n",
              "      <th>Wfs1</th>\n",
              "      <td>-0.107747</td>\n",
              "      <td>-0.392633</td>\n",
              "      <td>-0.107977</td>\n",
              "      <td>-0.231236</td>\n",
              "      <td>-1.434143</td>\n",
              "      <td>-0.113765</td>\n",
              "      <td>-0.106756</td>\n",
              "      <td>-0.131529</td>\n",
              "      <td>-0.09758</td>\n",
              "    </tr>\n",
              "    <tr>\n",
              "      <th>Yjefn3</th>\n",
              "      <td>-0.109014</td>\n",
              "      <td>-0.118510</td>\n",
              "      <td>-0.110804</td>\n",
              "      <td>-0.124387</td>\n",
              "      <td>-0.109543</td>\n",
              "      <td>-0.114872</td>\n",
              "      <td>-0.114093</td>\n",
              "      <td>-0.116772</td>\n",
              "      <td>-0.09758</td>\n",
              "    </tr>\n",
              "    <tr>\n",
              "      <th>Zcchc12</th>\n",
              "      <td>-0.100763</td>\n",
              "      <td>-0.107002</td>\n",
              "      <td>-0.138848</td>\n",
              "      <td>-0.110524</td>\n",
              "      <td>-0.103571</td>\n",
              "      <td>-0.099378</td>\n",
              "      <td>-0.101061</td>\n",
              "      <td>-0.135395</td>\n",
              "      <td>-0.09758</td>\n",
              "    </tr>\n",
              "    <tr>\n",
              "      <th>Zic1</th>\n",
              "      <td>-0.097580</td>\n",
              "      <td>-0.097767</td>\n",
              "      <td>-0.099001</td>\n",
              "      <td>-0.097737</td>\n",
              "      <td>-0.099080</td>\n",
              "      <td>-0.097952</td>\n",
              "      <td>-0.097859</td>\n",
              "      <td>-0.097580</td>\n",
              "      <td>-0.09758</td>\n",
              "    </tr>\n",
              "  </tbody>\n",
              "</table>\n",
              "<p>314 rows × 9 columns</p>\n",
              "</div>"
            ],
            "text/plain": [
              "           TEGLU6   TEGLU24    TEGLU1    TEGLU7   TEGLU13    TEGLU8    TEGLU3  \\\n",
              "Abi3bp  -0.114707 -0.098796 -0.154106 -0.120447 -0.099080 -0.104391 -0.116648   \n",
              "Acly    -0.115970 -0.122762 -0.126744 -0.137159 -0.142076 -0.135183 -0.134237   \n",
              "Adcyap1 -0.107747 -0.098422 -0.099475 -0.120447 -0.102075 -0.133417 -0.099739   \n",
              "Adora2a -0.097580 -0.097861 -0.097580 -0.097737 -0.097580 -0.097828 -0.098486   \n",
              "Afp     -0.098854 -0.097580 -0.097580 -0.099379 -0.097580 -0.097766 -0.106062   \n",
              "...           ...       ...       ...       ...       ...       ...       ...   \n",
              "Vtn     -0.097899 -0.098796 -0.099475 -0.103439 -0.097580 -0.100184 -0.101061   \n",
              "Wfs1    -0.107747 -0.392633 -0.107977 -0.231236 -1.434143 -0.113765 -0.106756   \n",
              "Yjefn3  -0.109014 -0.118510 -0.110804 -0.124387 -0.109543 -0.114872 -0.114093   \n",
              "Zcchc12 -0.100763 -0.107002 -0.138848 -0.110524 -0.103571 -0.099378 -0.101061   \n",
              "Zic1    -0.097580 -0.097767 -0.099001 -0.097737 -0.099080 -0.097952 -0.097859   \n",
              "\n",
              "          TEGLU23     Zero  \n",
              "Abi3bp  -0.097580 -0.09758  \n",
              "Acly    -0.144257 -0.09758  \n",
              "Adcyap1 -0.123776 -0.09758  \n",
              "Adora2a -0.097974 -0.09758  \n",
              "Afp     -0.097580 -0.09758  \n",
              "...           ...      ...  \n",
              "Vtn     -0.098367 -0.09758  \n",
              "Wfs1    -0.131529 -0.09758  \n",
              "Yjefn3  -0.116772 -0.09758  \n",
              "Zcchc12 -0.135395 -0.09758  \n",
              "Zic1    -0.097580 -0.09758  \n",
              "\n",
              "[314 rows x 9 columns]"
            ]
          },
          "execution_count": 17,
          "metadata": {},
          "output_type": "execute_result"
        }
      ],
      "source": [
        "# some housekeeping, results look better in a dataframe\n",
        "teglu_contr_df = pd.DataFrame(teglu_contr, columns=['TEGLU6', 'TEGLU24', 'TEGLU1', 'TEGLU7', 'TEGLU13', 'TEGLU8', 'TEGLU3', 'TEGLU23', 'Zero']).set_index(obj.genes.gene_panel)\n",
        "teglu_contr_df"
      ]
    },
    {
      "cell_type": "code",
      "execution_count": null,
      "id": "933a820f-d283-4fbf-ab7e-a99f5b501391",
      "metadata": {
        "colab": {
          "base_uri": "https://localhost:8080/",
          "height": 272
        },
        "id": "933a820f-d283-4fbf-ab7e-a99f5b501391",
        "outputId": "9af73a63-9e32-491f-e138-0a5f23517beb"
      },
      "outputs": [
        {
          "data": {
            "text/plain": [
              "TEGLU6     -99.764471\n",
              "TEGLU24   -100.070986\n",
              "TEGLU1    -100.330622\n",
              "TEGLU7    -101.070748\n",
              "TEGLU13   -101.724914\n",
              "TEGLU8    -101.961615\n",
              "TEGLU3    -102.403358\n",
              "TEGLU23   -102.458491\n",
              "Zero      -103.708762\n",
              "dtype: float64"
            ]
          },
          "execution_count": 18,
          "metadata": {},
          "output_type": "execute_result"
        }
      ],
      "source": [
        "# Get the total loglikelihood\n",
        "teglu_contr_df.sum(axis=0)"
      ]
    },
    {
      "cell_type": "markdown",
      "id": "760b6343-926a-465d-98cd-dfca5712d8e6",
      "metadata": {
        "id": "760b6343-926a-465d-98cd-dfca5712d8e6"
      },
      "source": [
        "So, we see that the Zero class doent has the highest loglikelihood. Why has the cell been given the zero class as the most likely class.\n",
        "\n",
        "The reason is because the prior is getting involved. Its loglikelihood is shown below"
      ]
    },
    {
      "cell_type": "code",
      "execution_count": null,
      "id": "7fcf4bd9-444d-45dd-a366-bbca3667bdab",
      "metadata": {
        "id": "7fcf4bd9-444d-45dd-a366-bbca3667bdab",
        "outputId": "7151e14e-025c-4f81-9ac2-ffd0236fc916"
      },
      "outputs": [
        {
          "data": {
            "text/html": [
              "<div>\n",
              "<style scoped>\n",
              "    .dataframe tbody tr th:only-of-type {\n",
              "        vertical-align: middle;\n",
              "    }\n",
              "\n",
              "    .dataframe tbody tr th {\n",
              "        vertical-align: top;\n",
              "    }\n",
              "\n",
              "    .dataframe thead th {\n",
              "        text-align: right;\n",
              "    }\n",
              "</style>\n",
              "<table border=\"1\" class=\"dataframe\">\n",
              "  <thead>\n",
              "    <tr style=\"text-align: right;\">\n",
              "      <th></th>\n",
              "      <th>0</th>\n",
              "    </tr>\n",
              "  </thead>\n",
              "  <tbody>\n",
              "    <tr>\n",
              "      <th>TEGLU6</th>\n",
              "      <td>-4.804021</td>\n",
              "    </tr>\n",
              "    <tr>\n",
              "      <th>TEGLU24</th>\n",
              "      <td>-4.804021</td>\n",
              "    </tr>\n",
              "    <tr>\n",
              "      <th>TEGLU1</th>\n",
              "      <td>-4.804021</td>\n",
              "    </tr>\n",
              "    <tr>\n",
              "      <th>TEGLU7</th>\n",
              "      <td>-4.804021</td>\n",
              "    </tr>\n",
              "    <tr>\n",
              "      <th>TEGLU13</th>\n",
              "      <td>-4.804021</td>\n",
              "    </tr>\n",
              "    <tr>\n",
              "      <th>TEGLU8</th>\n",
              "      <td>-4.804021</td>\n",
              "    </tr>\n",
              "    <tr>\n",
              "      <th>TEGLU3</th>\n",
              "      <td>-4.804021</td>\n",
              "    </tr>\n",
              "    <tr>\n",
              "      <th>TEGLU23</th>\n",
              "      <td>-4.804021</td>\n",
              "    </tr>\n",
              "    <tr>\n",
              "      <th>Zero</th>\n",
              "      <td>-0.693147</td>\n",
              "    </tr>\n",
              "  </tbody>\n",
              "</table>\n",
              "</div>"
            ],
            "text/plain": [
              "                0\n",
              "TEGLU6  -4.804021\n",
              "TEGLU24 -4.804021\n",
              "TEGLU1  -4.804021\n",
              "TEGLU7  -4.804021\n",
              "TEGLU13 -4.804021\n",
              "TEGLU8  -4.804021\n",
              "TEGLU3  -4.804021\n",
              "TEGLU23 -4.804021\n",
              "Zero    -0.693147"
            ]
          },
          "execution_count": 19,
          "metadata": {},
          "output_type": "execute_result"
        }
      ],
      "source": [
        "log_prior = pd.DataFrame(obj.cellTypes.log_prior).set_index(obj.cells.class_names)\n",
        "log_prior = log_prior.loc[['TEGLU6', 'TEGLU24', 'TEGLU1', 'TEGLU7', 'TEGLU13', 'TEGLU8', 'TEGLU3', 'TEGLU23', 'Zero']]\n",
        "log_prior"
      ]
    },
    {
      "cell_type": "markdown",
      "id": "6551a8ec-f035-489c-a7b8-f7dba9b38bbb",
      "metadata": {
        "id": "6551a8ec-f035-489c-a7b8-f7dba9b38bbb"
      },
      "source": [
        "The prior on the cell types assigns 50% prob to the zero class and the rest is split uniformly on the cell types. Below we show a barchart of the selected cell types only"
      ]
    },
    {
      "cell_type": "code",
      "execution_count": null,
      "id": "eb6fed6c-17fc-4071-8981-8cb630813cdc",
      "metadata": {
        "id": "eb6fed6c-17fc-4071-8981-8cb630813cdc",
        "outputId": "41731a41-dd42-4620-f16b-5cd7481efd37"
      },
      "outputs": [
        {
          "data": {
            "text/plain": [
              "<Axes: >"
            ]
          },
          "execution_count": 20,
          "metadata": {},
          "output_type": "execute_result"
        },
        {
          "data": {
            "image/png": "[encoded data removed]",
            "text/plain": [
              "<Figure size 640x480 with 1 Axes>"
            ]
          },
          "metadata": {},
          "output_type": "display_data"
        }
      ],
      "source": [
        "np.exp(log_prior).plot.bar()"
      ]
    },
    {
      "cell_type": "markdown",
      "id": "d93b65e5-7533-405b-9eb8-4c93e9750bf3",
      "metadata": {
        "id": "d93b65e5-7533-405b-9eb8-4c93e9750bf3"
      },
      "source": [
        "Combining now the negative binomial loglikelihood and the prior we have:"
      ]
    },
    {
      "cell_type": "code",
      "execution_count": null,
      "id": "2995e646-512c-4ee9-9069-0a3efd7d590c",
      "metadata": {
        "id": "2995e646-512c-4ee9-9069-0a3efd7d590c",
        "outputId": "28650a86-a180-483e-af57-432918b8a476"
      },
      "outputs": [
        {
          "data": {
            "text/plain": [
              "TEGLU6    -104.568492\n",
              "TEGLU24   -104.875006\n",
              "TEGLU1    -105.134643\n",
              "TEGLU7    -105.874769\n",
              "TEGLU13   -106.528935\n",
              "TEGLU8    -106.765636\n",
              "TEGLU3    -107.207379\n",
              "TEGLU23   -107.262512\n",
              "Zero      -104.401909\n",
              "dtype: float64"
            ]
          },
          "execution_count": 21,
          "metadata": {},
          "output_type": "execute_result"
        }
      ],
      "source": [
        "teglu_total_df = teglu_contr_df.sum(axis=0) + log_prior.squeeze()\n",
        "teglu_total_df"
      ]
    },
    {
      "cell_type": "markdown",
      "id": "d4cf894e-e0da-4bb1-a240-95b17a3ffe04",
      "metadata": {
        "id": "d4cf894e-e0da-4bb1-a240-95b17a3ffe04"
      },
      "source": [
        "Hence Zero class now has the highest loglikelihood but it is really close (almost the same) to the second best: TEGLU6"
      ]
    },
    {
      "cell_type": "code",
      "execution_count": null,
      "id": "fc595437-b991-47e8-a016-528614c428a5",
      "metadata": {
        "id": "fc595437-b991-47e8-a016-528614c428a5"
      },
      "outputs": [],
      "source": [
        "# Lets now compare the Zero class to TEGLU6 (second best)\n",
        "my_df = teglu_contr_df[['TEGLU6', 'Zero']]"
      ]
    },
    {
      "cell_type": "code",
      "execution_count": null,
      "id": "c56aff0b-66f5-43cb-8dc1-ebcc9291d015",
      "metadata": {
        "id": "c56aff0b-66f5-43cb-8dc1-ebcc9291d015"
      },
      "outputs": [],
      "source": [
        "# calc the difference between the contributions\n",
        "diff = teglu_contr_df['TEGLU6'] - teglu_contr_df['Zero']\n",
        "my_df = my_df.assign(diff = diff)"
      ]
    },
    {
      "cell_type": "code",
      "execution_count": null,
      "id": "20bd6dfa-1929-432b-848b-8ff6120a9bc4",
      "metadata": {
        "colab": {
          "base_uri": "https://localhost:8080/",
          "height": 206
        },
        "id": "20bd6dfa-1929-432b-848b-8ff6120a9bc4",
        "outputId": "863c7b6d-f7c7-4dec-9398-b8d62a628588"
      },
      "outputs": [
        {
          "data": {
            "text/html": [
              "<div>\n",
              "<style scoped>\n",
              "    .dataframe tbody tr th:only-of-type {\n",
              "        vertical-align: middle;\n",
              "    }\n",
              "\n",
              "    .dataframe tbody tr th {\n",
              "        vertical-align: top;\n",
              "    }\n",
              "\n",
              "    .dataframe thead th {\n",
              "        text-align: right;\n",
              "    }\n",
              "</style>\n",
              "<table border=\"1\" class=\"dataframe\">\n",
              "  <thead>\n",
              "    <tr style=\"text-align: right;\">\n",
              "      <th></th>\n",
              "      <th>TEGLU6</th>\n",
              "      <th>Zero</th>\n",
              "      <th>diff</th>\n",
              "    </tr>\n",
              "  </thead>\n",
              "  <tbody>\n",
              "    <tr>\n",
              "      <th>Rgs4</th>\n",
              "      <td>-5.815919</td>\n",
              "      <td>-9.231148</td>\n",
              "      <td>3.415229</td>\n",
              "    </tr>\n",
              "    <tr>\n",
              "      <th>Cd81</th>\n",
              "      <td>-4.843744</td>\n",
              "      <td>-6.186625</td>\n",
              "      <td>1.342881</td>\n",
              "    </tr>\n",
              "    <tr>\n",
              "      <th>Enc1</th>\n",
              "      <td>-4.856100</td>\n",
              "      <td>-6.186625</td>\n",
              "      <td>1.330525</td>\n",
              "    </tr>\n",
              "    <tr>\n",
              "      <th>Prkca</th>\n",
              "      <td>-5.019649</td>\n",
              "      <td>-6.186625</td>\n",
              "      <td>1.166976</td>\n",
              "    </tr>\n",
              "    <tr>\n",
              "      <th>Nrn1</th>\n",
              "      <td>-1.995080</td>\n",
              "      <td>-3.142103</td>\n",
              "      <td>1.147023</td>\n",
              "    </tr>\n",
              "  </tbody>\n",
              "</table>\n",
              "</div>"
            ],
            "text/plain": [
              "         TEGLU6      Zero      diff\n",
              "Rgs4  -5.815919 -9.231148  3.415229\n",
              "Cd81  -4.843744 -6.186625  1.342881\n",
              "Enc1  -4.856100 -6.186625  1.330525\n",
              "Prkca -5.019649 -6.186625  1.166976\n",
              "Nrn1  -1.995080 -3.142103  1.147023"
            ]
          },
          "execution_count": 24,
          "metadata": {},
          "output_type": "execute_result"
        }
      ],
      "source": [
        "# Top 5 genes that are cotributing most for the TEGLU6 cell type\n",
        "my_df.sort_values(by='diff', ascending=False).head(5)"
      ]
    },
    {
      "cell_type": "code",
      "execution_count": null,
      "id": "ad268fe6-1a6b-4128-a48e-0ed0cd756b04",
      "metadata": {
        "colab": {
          "base_uri": "https://localhost:8080/",
          "height": 206
        },
        "id": "ad268fe6-1a6b-4128-a48e-0ed0cd756b04",
        "outputId": "4612c9b2-42cf-4373-f19f-1952c1205656"
      },
      "outputs": [
        {
          "data": {
            "text/html": [
              "<div>\n",
              "<style scoped>\n",
              "    .dataframe tbody tr th:only-of-type {\n",
              "        vertical-align: middle;\n",
              "    }\n",
              "\n",
              "    .dataframe tbody tr th {\n",
              "        vertical-align: top;\n",
              "    }\n",
              "\n",
              "    .dataframe thead th {\n",
              "        text-align: right;\n",
              "    }\n",
              "</style>\n",
              "<table border=\"1\" class=\"dataframe\">\n",
              "  <thead>\n",
              "    <tr style=\"text-align: right;\">\n",
              "      <th></th>\n",
              "      <th>TEGLU6</th>\n",
              "      <th>Zero</th>\n",
              "      <th>diff</th>\n",
              "    </tr>\n",
              "  </thead>\n",
              "  <tbody>\n",
              "    <tr>\n",
              "      <th>Cplx2</th>\n",
              "      <td>-0.422331</td>\n",
              "      <td>-0.09758</td>\n",
              "      <td>-0.324751</td>\n",
              "    </tr>\n",
              "    <tr>\n",
              "      <th>Cxcl14</th>\n",
              "      <td>-0.454831</td>\n",
              "      <td>-0.09758</td>\n",
              "      <td>-0.357250</td>\n",
              "    </tr>\n",
              "    <tr>\n",
              "      <th>Tshz2</th>\n",
              "      <td>-0.879744</td>\n",
              "      <td>-0.09758</td>\n",
              "      <td>-0.782163</td>\n",
              "    </tr>\n",
              "    <tr>\n",
              "      <th>Nrgn</th>\n",
              "      <td>-1.055543</td>\n",
              "      <td>-0.09758</td>\n",
              "      <td>-0.957963</td>\n",
              "    </tr>\n",
              "    <tr>\n",
              "      <th>Cck</th>\n",
              "      <td>-1.356475</td>\n",
              "      <td>-0.09758</td>\n",
              "      <td>-1.258894</td>\n",
              "    </tr>\n",
              "  </tbody>\n",
              "</table>\n",
              "</div>"
            ],
            "text/plain": [
              "          TEGLU6     Zero      diff\n",
              "Cplx2  -0.422331 -0.09758 -0.324751\n",
              "Cxcl14 -0.454831 -0.09758 -0.357250\n",
              "Tshz2  -0.879744 -0.09758 -0.782163\n",
              "Nrgn   -1.055543 -0.09758 -0.957963\n",
              "Cck    -1.356475 -0.09758 -1.258894"
            ]
          },
          "execution_count": 25,
          "metadata": {},
          "output_type": "execute_result"
        }
      ],
      "source": [
        "# Top 5 genes that are cotributing most for the Zero cell type\n",
        "my_df.sort_values(by='diff', ascending=False).tail(5)"
      ]
    },
    {
      "cell_type": "markdown",
      "id": "8e3b995f-54ad-45f5-b8f7-a936027589e6",
      "metadata": {
        "id": "8e3b995f-54ad-45f5-b8f7-a936027589e6"
      },
      "source": [
        "It is worth noting that in the next iteration, Zero class falls from its top position and the most likely class is TEGLU6"
      ]
    },
    {
      "cell_type": "code",
      "execution_count": null,
      "id": "2d40e371-753a-4407-b193-ae6c215a3bee",
      "metadata": {
        "id": "2d40e371-753a-4407-b193-ae6c215a3bee"
      },
      "outputs": [],
      "source": []
    },
    {
      "cell_type": "code",
      "execution_count": null,
      "id": "a903b7e7-9034-492d-828b-065f200f9792",
      "metadata": {
        "id": "a903b7e7-9034-492d-828b-065f200f9792"
      },
      "outputs": [],
      "source": []
    }
  ],
  "metadata": {
    "colab": {
      "provenance": []
    },
    "kernelspec": {
      "display_name": "Python 3 (ipykernel)",
      "language": "python",
      "name": "python3"
    },
    "language_info": {
      "codemirror_mode": {
        "name": "ipython",
        "version": 3
      },
      "file_extension": ".py",
      "mimetype": "text/x-python",
      "name": "python",
      "nbconvert_exporter": "python",
      "pygments_lexer": "ipython3",
      "version": "3.8.17"
    }
  },
  "nbformat": 4,
  "nbformat_minor": 5
}