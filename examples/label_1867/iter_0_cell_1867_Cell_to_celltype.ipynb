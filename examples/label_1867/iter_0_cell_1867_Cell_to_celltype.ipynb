{
  "cells": [
    {
      "cell_type": "markdown",
      "id": "82072a65-c7d2-44d0-9f7c-4950c840ea6d",
      "metadata": {
        "id": "82072a65-c7d2-44d0-9f7c-4950c840ea6d"
      },
      "source": [
        "# Iteration 0: Cell to cell type assignment. Cell label = 1867"
      ]
    },
    {
      "cell_type": "code",
      "execution_count": null,
      "id": "366417d7-a0fa-4e5c-b2f6-ccfdfed643d2",
      "metadata": {
        "id": "366417d7-a0fa-4e5c-b2f6-ccfdfed643d2"
      },
      "outputs": [],
      "source": [
        "# Uncomment the line below to show all rows in a pandas dataframe\n",
        "# import pandas as pd\n",
        "# pd.set_option('display.max_rows', None)"
      ]
    },
    {
      "cell_type": "markdown",
      "id": "16706b4d-b001-45e0-9d2f-1aa15d59a2f3",
      "metadata": {
        "id": "16706b4d-b001-45e0-9d2f-1aa15d59a2f3"
      },
      "source": [
        "### This is a notebook demonstrating what happens under the hood in the cell to cell type step in pciSeq\n",
        "\n",
        "The focus here is on a particular cell (with label 1867) that has 17 gene counts but inside the first iteration the most likely class is the Zero class"
      ]
    },
    {
      "cell_type": "markdown",
      "id": "e4963917-e166-4205-80e0-7e055e2ae7a9",
      "metadata": {
        "id": "e4963917-e166-4205-80e0-7e055e2ae7a9"
      },
      "source": [
        "![Screenshot_1867.png](https://github.com/acycliq/pciSeq_iter_0/blob/master/examples/label_1867/Screenshot_1867.png?raw=1)"
      ]
    },
    {
      "cell_type": "code",
      "execution_count": null,
      "id": "2536be91-345a-4ca1-94ee-7ea330ef20b9",
      "metadata": {
        "id": "2536be91-345a-4ca1-94ee-7ea330ef20b9"
      },
      "outputs": [],
      "source": []
    },
    {
      "cell_type": "code",
      "execution_count": null,
      "id": "c876831b-5f1f-4a24-b3c9-b46c15af14ab",
      "metadata": {
        "id": "c876831b-5f1f-4a24-b3c9-b46c15af14ab",
        "outputId": "714b5ce0-9d15-4ba8-b06e-f414dd97acb4"
      },
      "outputs": [
        {
          "name": "stdout",
          "output_type": "stream",
          "text": [
            "Requirement already satisfied: gdown in /home/dimitris/miniconda3/envs/pciSeq/lib/python3.8/site-packages (5.2.0)\n",
            "Requirement already satisfied: beautifulsoup4 in /home/dimitris/miniconda3/envs/pciSeq/lib/python3.8/site-packages (from gdown) (4.12.2)\n",
            "Requirement already satisfied: filelock in /home/dimitris/miniconda3/envs/pciSeq/lib/python3.8/site-packages (from gdown) (3.16.1)\n",
            "Requirement already satisfied: requests[socks] in /home/dimitris/miniconda3/envs/pciSeq/lib/python3.8/site-packages (from gdown) (2.31.0)\n",
            "Requirement already satisfied: tqdm in /home/dimitris/miniconda3/envs/pciSeq/lib/python3.8/site-packages (from gdown) (4.66.1)\n",
            "Requirement already satisfied: soupsieve>1.2 in /home/dimitris/miniconda3/envs/pciSeq/lib/python3.8/site-packages (from beautifulsoup4->gdown) (2.4.1)\n",
            "Requirement already satisfied: charset-normalizer<4,>=2 in /home/dimitris/miniconda3/envs/pciSeq/lib/python3.8/site-packages (from requests[socks]->gdown) (3.2.0)\n",
            "Requirement already satisfied: idna<4,>=2.5 in /home/dimitris/miniconda3/envs/pciSeq/lib/python3.8/site-packages (from requests[socks]->gdown) (3.4)\n",
            "Requirement already satisfied: urllib3<3,>=1.21.1 in /home/dimitris/miniconda3/envs/pciSeq/lib/python3.8/site-packages (from requests[socks]->gdown) (2.0.4)\n",
            "Requirement already satisfied: certifi>=2017.4.17 in /home/dimitris/miniconda3/envs/pciSeq/lib/python3.8/site-packages (from requests[socks]->gdown) (2024.8.30)\n",
            "Requirement already satisfied: PySocks!=1.5.7,>=1.5.6 in /home/dimitris/miniconda3/envs/pciSeq/lib/python3.8/site-packages (from requests[socks]->gdown) (1.7.1)\n"
          ]
        }
      ],
      "source": [
        "!pip install gdown"
      ]
    },
    {
      "cell_type": "code",
      "execution_count": null,
      "id": "5b9c1a04-4df5-44c3-bcf9-2be67dee13e2",
      "metadata": {
        "id": "5b9c1a04-4df5-44c3-bcf9-2be67dee13e2"
      },
      "outputs": [],
      "source": [
        "import pandas as pd\n",
        "import numpy as np\n",
        "import scipy\n",
        "from scipy.special import softmax\n",
        "import gdown"
      ]
    },
    {
      "cell_type": "code",
      "execution_count": null,
      "id": "dRk-peuP41Vj",
      "metadata": {
        "colab": {
          "base_uri": "https://localhost:8080/"
        },
        "id": "dRk-peuP41Vj",
        "outputId": "35000b6b-b637-49f6-928b-63f874920b7a"
      },
      "outputs": [
        {
          "name": "stdout",
          "output_type": "stream",
          "text": [
            "Collecting git+https://github.com/acycliq/pciSeq.git@dev_3d\n",
            "  Cloning https://github.com/acycliq/pciSeq.git (to revision dev_3d) to /tmp/pip-req-build-g3bv4vqo\n",
            "  Running command git clone --filter=blob:none --quiet https://github.com/acycliq/pciSeq.git /tmp/pip-req-build-g3bv4vqo\n",
            "  Running command git checkout -b dev_3d --track origin/dev_3d\n",
            "  Switched to a new branch 'dev_3d'\n",
            "  Branch 'dev_3d' set up to track remote branch 'dev_3d' from 'origin'.\n",
            "  Resolved https://github.com/acycliq/pciSeq.git to commit 31fd7688f1f848d9e59931636ce39479614ea23d\n",
            "  Preparing metadata (setup.py) ... \u001b[?25l-"
          ]
        }
      ],
      "source": [
        "!pip install git+https://github.com/acycliq/pciSeq.git@dev_3d\n",
        "import pciSeq"
      ]
    },
    {
      "cell_type": "code",
      "execution_count": null,
      "id": "sJxUxFFZ4H7q",
      "metadata": {
        "id": "sJxUxFFZ4H7q"
      },
      "outputs": [],
      "source": [
        "file_id = \"1wY1PUvAwk_S9MhKbCyB0HzH9oxNloP0M\"\n",
        "url = f\"https://drive.google.com/uc?export=download&id={file_id}\"\n",
        "output = \"pciSeq.pickle\""
      ]
    },
    {
      "cell_type": "code",
      "execution_count": null,
      "id": "nKkNpv4f4P7w",
      "metadata": {
        "id": "nKkNpv4f4P7w"
      },
      "outputs": [],
      "source": [
        "gdown.download(url, output, quiet=False)"
      ]
    },
    {
      "cell_type": "code",
      "execution_count": null,
      "id": "34a34e84-601b-4ab5-8e60-6c3ecb0f69d5",
      "metadata": {
        "id": "34a34e84-601b-4ab5-8e60-6c3ecb0f69d5"
      },
      "outputs": [],
      "source": [
        "obj = pd.read_pickle(output)"
      ]
    },
    {
      "cell_type": "code",
      "execution_count": null,
      "id": "1fff6b4e-dac9-415e-870c-2f7e46f9a23f",
      "metadata": {
        "id": "1fff6b4e-dac9-415e-870c-2f7e46f9a23f"
      },
      "outputs": [],
      "source": [
        "my_cell = 1867\n",
        "my_classes = ['TEGLU23', 'TEGLU24', 'TEGLU21', 'Zero']"
      ]
    },
    {
      "cell_type": "code",
      "execution_count": null,
      "id": "734fea20-202e-4f7f-816b-3d204af77288",
      "metadata": {
        "id": "734fea20-202e-4f7f-816b-3d204af77288"
      },
      "outputs": [],
      "source": [
        "# Set the hyperparameters\n",
        "rSpot = 2.0               # Spread of the negative binomial\n",
        "SpotReg = 0.1             # Spot regularization: Additive factor applied to the single cell data\n",
        "inefficiency = 0.2        # multiplicative factor applied to the single cell data"
      ]
    },
    {
      "cell_type": "code",
      "execution_count": null,
      "id": "0e6fa76d-9329-4e15-b13d-1b476e35339e",
      "metadata": {
        "id": "0e6fa76d-9329-4e15-b13d-1b476e35339e"
      },
      "outputs": [],
      "source": [
        "# Another piece of information comes from the single cell data. For simplicity\n",
        "# we are pulling here only the gene expressions for 'TEGLU23' (expected in CA3)\n",
        "# and 'TEGLU24', 'TEGLU21' (expected in CA3)\n",
        "my_class_definitions = obj.single_cell.mean_expression[my_classes]\n",
        "my_class_definitions"
      ]
    },
    {
      "cell_type": "code",
      "execution_count": null,
      "id": "1dcbaa2c-45d8-4c31-bedd-949e3a125b08",
      "metadata": {
        "id": "1dcbaa2c-45d8-4c31-bedd-949e3a125b08"
      },
      "outputs": [],
      "source": []
    },
    {
      "cell_type": "markdown",
      "id": "803d323e-1cf8-462a-a88f-debf60e8ad52",
      "metadata": {
        "id": "803d323e-1cf8-462a-a88f-debf60e8ad52"
      },
      "source": [
        "### Part 1. Initialization"
      ]
    },
    {
      "cell_type": "code",
      "execution_count": null,
      "id": "1bf84cf4-6854-4f80-bec1-bd03e7922ef1",
      "metadata": {
        "id": "1bf84cf4-6854-4f80-bec1-bd03e7922ef1"
      },
      "outputs": [],
      "source": [
        "# To set the initial gene counts for any given cell we collect the gene reads inside the cell boundaries\n",
        "# For cell 10275 these gene reads are the spots below\n",
        "spots_1867 = obj.spots.data[obj.spots.data.label == my_cell]\n",
        "spots_1867"
      ]
    },
    {
      "cell_type": "code",
      "execution_count": null,
      "id": "4e726756-61a1-4eb4-b1a5-2e12fae37902",
      "metadata": {
        "id": "4e726756-61a1-4eb4-b1a5-2e12fae37902"
      },
      "outputs": [],
      "source": [
        "# Hence we aggregate per gene and we derive the gene counts\n",
        "cgc = spots_1867.groupby('gene_name').size()\n",
        "cgc"
      ]
    },
    {
      "cell_type": "code",
      "execution_count": null,
      "id": "2b4e4c9d-13e2-4cc0-b88f-6eb89c1d42ab",
      "metadata": {
        "id": "2b4e4c9d-13e2-4cc0-b88f-6eb89c1d42ab"
      },
      "outputs": [],
      "source": [
        "# the cell has 17 reads inside its boundaries\n",
        "cgc.sum()"
      ]
    },
    {
      "cell_type": "code",
      "execution_count": null,
      "id": "697c1eab-b15c-4f15-b27f-1cf9fd649728",
      "metadata": {
        "id": "697c1eab-b15c-4f15-b27f-1cf9fd649728"
      },
      "outputs": [],
      "source": [
        "# The cell gene counts introduced above contain only genes with gene reads > 0.\n",
        "# We need however the full gene panel\n",
        "cgc = cgc.reindex(obj.genes.gene_panel, fill_value=0)"
      ]
    },
    {
      "cell_type": "code",
      "execution_count": null,
      "id": "2e0f78c4-0989-49e8-b06e-916e9e38a091",
      "metadata": {
        "id": "2e0f78c4-0989-49e8-b06e-916e9e38a091"
      },
      "outputs": [],
      "source": [
        "# Note also that the eta (the random variable to model the gene inefficiency) is initialied as a vector of ones with lenght\n",
        "# equal to the number of genes:\n",
        "eta_bar = np.ones(obj.nG)"
      ]
    },
    {
      "cell_type": "markdown",
      "id": "187bd107-a698-43db-9b83-6ea2e75aadf5",
      "metadata": {
        "id": "187bd107-a698-43db-9b83-6ea2e75aadf5"
      },
      "source": [
        "### Part 2. Cell to cell type"
      ]
    },
    {
      "cell_type": "code",
      "execution_count": null,
      "id": "0b5f8f2a-83a3-40c1-b365-b25658cf8f18",
      "metadata": {
        "id": "0b5f8f2a-83a3-40c1-b365-b25658cf8f18"
      },
      "outputs": [],
      "source": [
        "def negative_binomial_loglikelihood(x: np.ndarray, r: float, p: np.ndarray) -> np.ndarray:\n",
        "    log_likelihood = x * np.log(p) + r * np.log(1 - p)\n",
        "\n",
        "    return log_likelihood"
      ]
    },
    {
      "cell_type": "code",
      "execution_count": null,
      "id": "d79d654f-4588-4f6d-a8bf-35da6fd1d1bd",
      "metadata": {
        "id": "d79d654f-4588-4f6d-a8bf-35da6fd1d1bd"
      },
      "outputs": [],
      "source": [
        "# prepare now the data from the negative binomial\n",
        "ScaledExp = my_class_definitions * inefficiency * eta_bar[:, None]\n",
        "ScaledExp = ScaledExp + SpotReg\n",
        "p = ScaledExp / (ScaledExp + rSpot)"
      ]
    },
    {
      "cell_type": "code",
      "execution_count": null,
      "id": "0fd3e92e-ebd5-48ac-8b6f-85cd5932205b",
      "metadata": {
        "id": "0fd3e92e-ebd5-48ac-8b6f-85cd5932205b"
      },
      "outputs": [],
      "source": [
        "# evaluate the loglikelihood\n",
        "teglu_contr = negative_binomial_loglikelihood(cgc.values[:, None], rSpot, p.values)\n",
        "teglu_contr.sum(axis=0)"
      ]
    },
    {
      "cell_type": "code",
      "execution_count": null,
      "id": "efbe8b1b-036d-42a5-b286-5a7296863531",
      "metadata": {
        "id": "efbe8b1b-036d-42a5-b286-5a7296863531"
      },
      "outputs": [],
      "source": [
        "# some housekeeping, results look better in a dataframe\n",
        "teglu_contr_df = pd.DataFrame(teglu_contr, columns=my_classes).set_index(obj.genes.gene_panel)\n",
        "teglu_contr_df"
      ]
    },
    {
      "cell_type": "code",
      "execution_count": null,
      "id": "933a820f-d283-4fbf-ab7e-a99f5b501391",
      "metadata": {
        "id": "933a820f-d283-4fbf-ab7e-a99f5b501391"
      },
      "outputs": [],
      "source": [
        "# Get the total loglikelihood\n",
        "teglu_contr_df.sum(axis=0).sort_values(ascending=False)"
      ]
    },
    {
      "cell_type": "markdown",
      "id": "760b6343-926a-465d-98cd-dfca5712d8e6",
      "metadata": {
        "id": "760b6343-926a-465d-98cd-dfca5712d8e6"
      },
      "source": [
        "I seems that the Zero class has the highest loglikelihood"
      ]
    },
    {
      "cell_type": "code",
      "execution_count": null,
      "id": "fc595437-b991-47e8-a016-528614c428a5",
      "metadata": {
        "id": "fc595437-b991-47e8-a016-528614c428a5"
      },
      "outputs": [],
      "source": [
        "# Lets now compare the Zero class to TEGLU24 (second best)\n",
        "my_df = teglu_contr_df[['TEGLU24', 'Zero']]"
      ]
    },
    {
      "cell_type": "code",
      "execution_count": null,
      "id": "c56aff0b-66f5-43cb-8dc1-ebcc9291d015",
      "metadata": {
        "id": "c56aff0b-66f5-43cb-8dc1-ebcc9291d015"
      },
      "outputs": [],
      "source": [
        "# calc the difference between the contributions\n",
        "diff = teglu_contr_df['TEGLU24'] - teglu_contr_df['Zero']\n",
        "my_df = my_df.assign(diff = diff)"
      ]
    },
    {
      "cell_type": "code",
      "execution_count": null,
      "id": "20bd6dfa-1929-432b-848b-8ff6120a9bc4",
      "metadata": {
        "id": "20bd6dfa-1929-432b-848b-8ff6120a9bc4"
      },
      "outputs": [],
      "source": [
        "# Top 5 genes that are cotributing most for the MFOL1 cell type\n",
        "my_df.sort_values(by='diff', ascending=False).head(5)"
      ]
    },
    {
      "cell_type": "code",
      "execution_count": null,
      "id": "ad268fe6-1a6b-4128-a48e-0ed0cd756b04",
      "metadata": {
        "id": "ad268fe6-1a6b-4128-a48e-0ed0cd756b04"
      },
      "outputs": [],
      "source": [
        "# Top 5 genes that are cotributing most for the Zero cell type\n",
        "my_df.sort_values(by='diff', ascending=False).tail(5)"
      ]
    },
    {
      "cell_type": "markdown",
      "id": "83bb941f-fbcc-47bb-84be-b6c40249e946",
      "metadata": {
        "id": "83bb941f-fbcc-47bb-84be-b6c40249e946"
      },
      "source": [
        "The absence of markers such as Neurod6 is probably what makes cell typing to point towards the Zero class"
      ]
    },
    {
      "cell_type": "code",
      "execution_count": null,
      "id": "78646b21-dedf-4414-98a6-da02546c2783",
      "metadata": {
        "id": "78646b21-dedf-4414-98a6-da02546c2783"
      },
      "outputs": [],
      "source": []
    }
  ],
  "metadata": {
    "colab": {
      "provenance": []
    },
    "kernelspec": {
      "display_name": "Python 3 (ipykernel)",
      "language": "python",
      "name": "python3"
    },
    "language_info": {
      "codemirror_mode": {
        "name": "ipython",
        "version": 3
      },
      "file_extension": ".py",
      "mimetype": "text/x-python",
      "name": "python",
      "nbconvert_exporter": "python",
      "pygments_lexer": "ipython3",
      "version": "3.8.17"
    }
  },
  "nbformat": 4,
  "nbformat_minor": 5
}